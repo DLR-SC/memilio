{
 "cells": [
  {
   "cell_type": "code",
   "execution_count": null,
   "metadata": {},
   "outputs": [],
   "source": [
    "import numpy as np\n",
    "import pandas as pd\n",
    "import matplotlib.pyplot as plt\n",
    "import scipy\n",
    "from scipy.stats import norm, gamma, lognorm, weibull_min, expon\n",
    "plt.rc('legend', fontsize=14) "
   ]
  },
  {
   "cell_type": "code",
   "execution_count": null,
   "metadata": {},
   "outputs": [],
   "source": [
    "colors=[[0,0.5,0.5],\n",
    "        [1.0000,0.6666,0],\n",
    "        [0.8000,0.1111,0],\n",
    "        [0.500,0.500,0.0],\n",
    "        [0.0500,0.0500,0.0500],\n",
    "        [0.0000,1.0000,0.3333],\n",
    "        [0.800,1,0.0],\n",
    "        [0.3,0.3,0.3],\n",
    "        [0.8,0.8,0.8]]"
   ]
  },
  {
   "cell_type": "markdown",
   "metadata": {},
   "source": [
    "# Load Data"
   ]
  },
  {
   "cell_type": "code",
   "execution_count": null,
   "metadata": {},
   "outputs": [],
   "source": [
    "# Load Data\n",
    "#df = pd.read_csv('LEOSS Kuehn 08 25/SUF_Kuehn_200825.csv', sep=';')\n",
    "df = pd.read_csv('LEOSS_Kuehn_2020_10_14/SUF_Kuehn_201014.csv', sep=';')\n",
    "\n",
    "# Only keep entries that either recovered or died specifically from Covid-19\n",
    "df = df[np.any([(df['BL_LastKnownStatus'] == 2).values, (df['BL_LastKnownStatus'] == 3).values], axis=0)]\n",
    "\n",
    "# Discard entries with unknown age and convert to int\n",
    "df = df[df['BL_Age']!='*']\n",
    "df['BL_Age'] = df['BL_Age'].astype(int)\n"
   ]
  },
  {
   "cell_type": "code",
   "execution_count": null,
   "metadata": {},
   "outputs": [],
   "source": [
    "# Reads the values of a single column, which consits of strings. \n",
    "# The entry of the column may contain values like '<3' and '>15',\n",
    "# which are replaced by lower_bound or upper_bound\n",
    "def read_column(df, lower_bound=None, upper_bound=None):\n",
    "    duration = []\n",
    "    for i in range(len(df)):\n",
    "        if ';' in df.values[i]:\n",
    "            # outliers are grouped for anonymization, there is a \";\" in the string and\n",
    "            # they are then given as lower_bound;upper_bound then\n",
    "            sc_ind = df.values[i].find(';') # find the index of the \";\" in the string\n",
    "            \n",
    "            lower_bound =int(df.values[i][1:sc_ind]) # get lower bound\n",
    "            upper_bound =int(df.values[i][sc_ind+1:-1]) # get upper bound\n",
    "            \n",
    "            # set new value as mean\n",
    "            if int((lower_bound + upper_bound)/2) >= 0:\n",
    "                duration.append(int((lower_bound + upper_bound)/2))\n",
    "            \n",
    "        # some values are only provided as \">n\" oder \"<n\"\n",
    "        # then, set the actual value to n+1 or n-1\n",
    "        elif '>' in df.values[i]:\n",
    "            duration.append(int(df.values[i][2:])+1)\n",
    "        elif '<' in df.values[i]:\n",
    "            if int(df.values[i][2:])-1 >= 0:\n",
    "                duration.append(int(df.values[i][2:])-1)\n",
    "        else:\n",
    "            if(int(df.values[i])>= 0):\n",
    "                duration.append(int(df.values[i]))\n",
    "            \n",
    "    print(\"Number of Patients: \", len(duration))\n",
    "            \n",
    "    return duration"
   ]
  },
  {
   "cell_type": "code",
   "execution_count": null,
   "metadata": {},
   "outputs": [],
   "source": [
    "# save a dataframe for an age division to a csv file\n",
    "def save_df(ages, unique_list, count_list, name):\n",
    "    min_u = 0\n",
    "    max_u = -100\n",
    "    for age in range(len(ages)):\n",
    "        if len(unique_list[age])>0:\n",
    "            min_u = min(min_u, min(unique_list[age]))\n",
    "            max_u = max(max_u, max(unique_list[age]))\n",
    "\n",
    "    cols = [str(x) for x in range(min_u, max_u + 1)]\n",
    "    count_data = np.zeros((len(ages), len(cols)))\n",
    "    for age in range(len(ages)):\n",
    "        counter = 0\n",
    "        if len(unique_list[age])>0:\n",
    "            for i in range(len(cols)):\n",
    "                if int(cols[i]) == unique_list[age][counter]:\n",
    "                    count_data[age, i] = count_list[age][counter]\n",
    "                    if counter < len(unique_list[age])-1:\n",
    "                        counter += 1\n",
    "                \n",
    "    count_df = pd.DataFrame(count_data, columns=cols, index=ages)\n",
    "    display(count_df)\n",
    "    count_df.to_csv(name + '.csv')"
   ]
  },
  {
   "cell_type": "code",
   "execution_count": null,
   "metadata": {},
   "outputs": [],
   "source": [
    "# Calculates probabilities of ICU transfer during hospital stay (mu_HU)\n",
    "# and dying during ICU (mu_UD)\n",
    "# also computes confidence intervals based on Walds method for the Binomial distribution\n",
    "# https://en.wikipedia.org/wiki/Binomial_distribution\n",
    "z = 1.96 # ensures 95% confidence interval\n",
    "\n",
    "def calc_prob(df_age_groups, ages):\n",
    "    mu_HU_list = []\n",
    "    mu_UD_list = []\n",
    "    mu_HU_dev_list = []\n",
    "    mu_UD_dev_list = []    \n",
    "    for (df_age, age) in zip(df_age_groups, ages):\n",
    "        df_hosp = df_age[['BL_Duration_InpatientstayNewCat', 'BL_Duration_ICUStayNewCat',\n",
    "                          'BL_LastKnownStatus', 'BL_AdmissionComputedNewCat',\n",
    "                          'BL_ICU', 'BL_Inpatient']]\n",
    "        df_hosp = df_hosp[df_hosp['BL_Inpatient']=='1']\n",
    "        df_icu = df_hosp[df_hosp['BL_ICU']=='1']\n",
    "        df_dead = df_icu[df_icu['BL_LastKnownStatus']==3]\n",
    "        df_icu_rec = df_icu[df_icu['BL_LastKnownStatus']==2]\n",
    "        df_hosp_rec = df_hosp[np.all([df_hosp['BL_LastKnownStatus']==2,\n",
    "                                      df_hosp['BL_ICU']!='1']\n",
    "                                     , axis=0)]\n",
    "\n",
    "\n",
    "        num_hosp = len(df_hosp.values[:,0])\n",
    "        num_icu = len(df_icu.values[:,0])\n",
    "        num_dead = len(df_dead.values[:,0])\n",
    "\n",
    "        num_rec_hosp = len(df_hosp_rec.values[:,0])\n",
    "        num_rec_icu = len(df_icu_rec.values[:,0])\n",
    "\n",
    "        if num_hosp > 0:\n",
    "            mu_HU = num_icu/num_hosp\n",
    "            mu_HU_dev = z*np.sqrt(mu_HU*(1-mu_HU)/num_hosp)\n",
    "            mu_HU_dev_list.append(mu_HU_dev)\n",
    "            mu_HU_list.append(mu_HU)\n",
    "        else: \n",
    "            mu_HU = 'No Entries for this Age Group'\n",
    "            mu_HU_list.append(0)\n",
    "\n",
    "        if num_icu > 0:\n",
    "            mu_UD = num_dead/num_icu\n",
    "            mu_UD_dev = z*np.sqrt(mu_UD*(1-mu_UD)/num_icu)\n",
    "            mu_UD_dev_list.append(mu_UD_dev)            \n",
    "            mu_UD_list.append(mu_UD)\n",
    "        else:\n",
    "            mu_UD = 'No Entries for this Age Group'\n",
    "            mu_UD_list.append(0)\n",
    "\n",
    "        print('Parameters for Ages', age+ ':')\n",
    "        print('ICUs per Hosps (', num_hosp,'):', mu_HU, ' 95%-CI: [', mu_HU-mu_HU_dev, ',',mu_HU+mu_HU_dev,']')\n",
    "        print('Deaths per ICUs (', num_icu,'):', mu_UD, ' 95%-CI: [', mu_UD-mu_UD_dev, ',',mu_UD+mu_UD_dev,']')\n",
    "        print('')\n",
    "\n",
    "\n",
    "    if len(mu_UD_list) > 1:\n",
    "        fig, ax = plt.subplots(1,1,figsize=(9,6))\n",
    "        ax.plot(range(len(ages)), mu_HU_list)\n",
    "        ax.plot(range(len(ages)), [x-y for (x,y) in zip(mu_HU_list,mu_HU_dev_list)], 'k--')        \n",
    "        ax.plot(range(len(ages)), [x+y for (x,y) in zip(mu_HU_list,mu_HU_dev_list)], 'k--') \n",
    "        ax.set_ylim(0,1)\n",
    "        ax.set_xticks(range(len(ages)))\n",
    "        ax.set_xticklabels(ages)\n",
    "        ax.set_title('Probability of ICU during hospital stay',fontsize=18)\n",
    "        ax.set_xlabel('Age Group', fontsize=18)\n",
    "        ax.set_ylabel('Probability', fontsize=18)\n",
    "        plt.show()\n",
    "        \n",
    "        fig, ax = plt.subplots(1,1,figsize=(9,6))\n",
    "        ax.plot(range(len(ages)), mu_UD_list)\n",
    "        ax.plot(range(len(ages)), [x-y for (x,y) in zip(mu_UD_list,mu_UD_dev_list)], 'k--')        \n",
    "        ax.plot(range(len(ages)), [x+y for (x,y) in zip(mu_UD_list,mu_UD_dev_list)], 'k--')\n",
    "        ax.set_ylim(0,1)\n",
    "        ax.set_xticks(range(len(ages)))\n",
    "        ax.set_xticklabels(ages)\n",
    "        ax.set_title('Probability of death during ICU',fontsize=18)\n",
    "        ax.set_xlabel('Age Group', fontsize=18)\n",
    "        ax.set_ylabel('Probability', fontsize=18)\n",
    "        plt.show()\n",
    "        \n",
    "    return mu_HU_list, mu_UD_list"
   ]
  },
  {
   "cell_type": "code",
   "execution_count": null,
   "metadata": {},
   "outputs": [],
   "source": [
    "# makes unique and inserts zeros into count lists\n",
    "def create_arrays_to_plot(repeated_list):\n",
    "    unique, counts = np.unique(repeated_list, return_counts=True)\n",
    "    \n",
    "    if(len(unique)>0):   \n",
    "        xvals = np.arange(max(unique)+1, dtype = int)\n",
    "        yvals = np.zeros(max(unique)+1, dtype=int)\n",
    "\n",
    "        for i in range(min(unique),max(unique)+1):\n",
    "            yvals[unique] = counts\n",
    "\n",
    "        if(yvals[0]==0):\n",
    "            xvals = np.delete(xvals, 0) # account for distributions defined for x>0\n",
    "            yvals = np.delete(yvals, 0)\n",
    "            \n",
    "    else:\n",
    "        xvals = []\n",
    "        yvals = []\n",
    "    return (xvals,yvals)"
   ]
  },
  {
   "cell_type": "code",
   "execution_count": null,
   "metadata": {},
   "outputs": [],
   "source": [
    "# fits distribution to values given and checks via Pearsons Chi^2 test\n",
    "# https://en.wikipedia.org/wiki/Pearson%27s_chi-squared_test\n",
    "# n = the number of cells in the table\n",
    "# The reduction in the degrees of freedom is calculated as p=s+1, \n",
    "# where s is the number of co-variates used in fitting the distribution (normal=2 (mu, sigma), lognormal=3...)\n",
    "# returns argument 1&2: (x,y) to plot data,\n",
    "#         argument 3&4: (x,y) to plot best fit, \n",
    "#         argument 5&6: distribution name and its parameters (shape (if existent), location and scale),\n",
    "#         argument 7: SSE, chi2 score and pvalue in one row\n",
    "def fit_distribution(repeated_list, plot_fit=False):      \n",
    "    \n",
    "    xvals, yvals = create_arrays_to_plot(repeated_list)\n",
    "    yvals_scaled = 1/sum(yvals)*yvals\n",
    "    \n",
    "    x = np.linspace(int(min(xvals)),max(repeated_list)+1,200)     \n",
    "    \n",
    "    params_list = []\n",
    "    \n",
    "    #https://docs.scipy.org/doc/scipy/reference/stats.html#continuous-distributions\n",
    "    dist_names = ['gamma', 'weibull_min', 'lognorm', 'norm', 'expon']\n",
    "    error_list = np.zeros([len(dist_names),3])\n",
    "\n",
    "    i=0\n",
    "    for dist_name in dist_names:\n",
    "        # get name of distribution\n",
    "        dist_name_scipy = getattr(scipy.stats, dist_name)\n",
    "\n",
    "        # fit dist to data\n",
    "        params = dist_name_scipy.fit(repeated_list)\n",
    "        \n",
    "        # separate parts of parameters\n",
    "        shape = params[:-2] # shape parameter for e.g. gamma, lognorm and weibull distributions\n",
    "                            # parameter not available for normal and exponential\n",
    "        loc = params[-2] # location parameter\n",
    "        scale = params[-1] # scale parameter\n",
    "        \n",
    "        params_list.append(params)        \n",
    "        \n",
    "        y_fitted = dist_name_scipy.pdf(xvals, *shape, loc=loc, scale=scale)\n",
    "        sse = np.power(yvals_scaled - y_fitted, 2.0) # compute squared errors\n",
    "        \n",
    "        # compute chi2 and p-value\n",
    "        chi2 = scipy.stats.chisquare(yvals_scaled, f_exp=y_fitted) \n",
    "        sse = np.sum(sse) # compute sum \n",
    "        \n",
    "        error_list[i,0] = sse\n",
    "        error_list[i,1] = chi2[0]\n",
    "        error_list[i,2] = chi2[1]\n",
    "        \n",
    "        i += 1\n",
    "        \n",
    "        \n",
    "    best_fit_dist_ind = np.argsort(error_list[:,1], axis=0)\n",
    "    \n",
    "    for i in range(0,1):\n",
    "        # separate parts of parameters\n",
    "        shape = params_list[best_fit_dist_ind[i]][:-2] # shape parameter for e.g. gamma, lognorm and weibull distributions\n",
    "                            # parameter not available for normal and exponential\n",
    "        loc = params_list[best_fit_dist_ind[i]][-2] # location parameter\n",
    "        scale = params_list[best_fit_dist_ind[i]][-1] # scale parameter\n",
    "\n",
    "        dist_name_scipy = getattr(scipy.stats, dist_names[best_fit_dist_ind[i]])\n",
    "\n",
    "        y_fitted_plot = dist_name_scipy.pdf(x, *shape, loc=loc, scale=scale)\n",
    "        \n",
    "        if plot_fit:\n",
    "            label_plot = str(dist_names[best_fit_dist_ind[i]])+'('+str(np.around(*shape,2))+','+str(np.around(loc,2))+','+str(np.around(scale,2))+')'\n",
    "\n",
    "            plt.plot(x, y_fitted_plot, label=label_plot)\n",
    "            plt.xlim(min(repeated_list),max(repeated_list))\n",
    "        \n",
    "    \n",
    "    if plot_fit:\n",
    "        plt.plot(xvals, yvals_scaled, label='original data')\n",
    "        plt.legend(loc='upper right')\n",
    "        plt.show()  \n",
    "        print('Best fitted distribution: ',dist_names[best_fit_dist_ind[0]])\n",
    "        print('\\tSSE: ',error_list[best_fit_dist_ind[0],0], \"\\n\\tChi2: \",error_list[best_fit_dist_ind[0],1],\"\\n\\tpvalue: \",error_list[best_fit_dist_ind[0],2])\n",
    "    \n",
    "    return (xvals,yvals,x,y_fitted_plot,dist_names[best_fit_dist_ind[0]],params_list[best_fit_dist_ind[i]],error_list[best_fit_dist_ind[0],:])"
   ]
  },
  {
   "cell_type": "code",
   "execution_count": null,
   "metadata": {},
   "outputs": [],
   "source": [
    "# plots original data and is distributional fits\n",
    "def get_data_fits_and_plot(durations_list, plot_str):\n",
    "    count_list = []\n",
    "    unique_list = []    \n",
    "    dist_params_list = []\n",
    "    fig, ax = plt.subplots(1,1,figsize=(9,6))\n",
    "    i=0\n",
    "    for age in range(len(durations_list)):\n",
    "        (xvals,yvals,x_fitted_plot,y_fitted_plot,dist_name,params,errors_fitted) = fit_distribution(durations_list[age], False)\n",
    "        dist_params_list.append([dist_name,params,errors_fitted])\n",
    "        \n",
    "        count_list.append(yvals)\n",
    "        unique_list.append(xvals)\n",
    "        ax.plot(xvals, yvals/sum(yvals), '-', color=colors[i])     \n",
    "        ax.plot(x_fitted_plot, y_fitted_plot, '--', color=colors[i]) \n",
    "        i+=1\n",
    "                \n",
    "    labels = []\n",
    "    for i in range(len(durations_list)):\n",
    "        labels.append('Orig. data, age: '+ages[i])\n",
    "        labels.append(dist_params_list[i][0]+'('+str(np.around(*dist_params_list[i][1][:-2],2))+','+str(np.around(dist_params_list[i][1][-2],2))+','+str(np.around(dist_params_list[i][1][-1],2))+')')\n",
    "        \n",
    "    ax.legend(labels, fontsize=min(18,18*6/len(durations_list)))\n",
    "    ax.set_ylim(0)\n",
    "    ax.set_title(plot_str, fontsize = 18)\n",
    "    ax.set_xlabel('Time [days]', fontsize=18)\n",
    "    ax.set_ylabel('Relative number of patients', fontsize=18)\n",
    "    plt.show()\n",
    "    \n",
    "    return (count_list,unique_list)"
   ]
  },
  {
   "cell_type": "code",
   "execution_count": null,
   "metadata": {},
   "outputs": [],
   "source": [
    "# calculates average time spent in hospital before recovering\n",
    "def calc_time_hosp_rec(df_age_groups, ages):\n",
    "    print('Hospital to Recovered (R5):')\n",
    "    durations_list = []\n",
    "    mean = []\n",
    "    std = []\n",
    "    for df_age, age in zip(df_age_groups, ages):\n",
    "        print('Parameters for Ages', age+ ':')\n",
    "        df_hosp_rec_dur = df_age['BL_Duration_InpatientstayNewCat'][np.all([df_age['BL_Inpatient']=='1',\n",
    "                                                                       df_age['BL_LastKnownStatus']==2, \n",
    "                                                                       df_age['BL_ICU']!='1'], axis=0)]\n",
    "\n",
    "        \n",
    "        duration = read_column(df_hosp_rec_dur, 2, 15)\n",
    "\n",
    "        print('Mean of Hospital to Recovered (R5):', np.mean(duration))\n",
    "        print('STD of Hospital to Recovered (R5):', np.std(duration), '\\n')\n",
    "        durations_list.append(duration)\n",
    "        mean.append(np.mean(duration))\n",
    "        std.append(np.std(duration))\n",
    "        \n",
    "\n",
    "    unique_list, count_list = get_data_fits_and_plot(durations_list,'Time spent in hospital before recovering')\n",
    "    \n",
    "    save_df(ages, unique_list, count_list, 'hosp_to_rec_age' + str(len(ages)))\n",
    "    \n",
    "    return mean, std"
   ]
  },
  {
   "cell_type": "code",
   "execution_count": null,
   "metadata": {
    "scrolled": false
   },
   "outputs": [],
   "source": [
    "R5_mean, R5_std = calc_time_hosp_rec([df], ['All'])"
   ]
  },
  {
   "cell_type": "code",
   "execution_count": null,
   "metadata": {},
   "outputs": [],
   "source": [
    "# calculates average time of positive test before hospital admission \n",
    "def calc_time_inf_hosp(df_age_groups, ages):\n",
    "    print('Infected to Hospital (R6):')\n",
    "    durations_list = []\n",
    "    mean = []\n",
    "    std = []\n",
    "    for df_age, age in zip(df_age_groups, ages):\n",
    "        print('Parameters for Ages', age+ ':')\n",
    "        df_admission = df_age['BL_AdmissionComputedNewCat'][df_age['BL_AdmissionComputedNewCat']!='Missing']\n",
    "\n",
    "\n",
    "        duration = read_column(df_admission, upper_bound=7)\n",
    "\n",
    "        print('Mean of Infected to Hospital (R6):', np.mean(duration))\n",
    "        print('STD of Infected to Hospital (R6):', np.std(duration))\n",
    "        durations_list.append(duration)\n",
    "        mean.append(np.mean(duration))\n",
    "        std.append(np.std(duration))\n",
    "        print()\n",
    "\n",
    "        \n",
    "    unique_list, count_list = get_data_fits_and_plot(durations_list,'Time of known infection before admission')\n",
    "    \n",
    "    save_df(ages, unique_list, count_list, 'inf_to_hosp' + str(len(ages)))\n",
    "\n",
    "    \n",
    "    return mean, std\n"
   ]
  },
  {
   "cell_type": "code",
   "execution_count": null,
   "metadata": {},
   "outputs": [],
   "source": [
    "# calculates average time of hospital stay before ICU admission\n",
    "def calc_time_hosp_ICU(df_age_groups, ages):\n",
    "    print('Hospital to ICU (R7):')\n",
    "    durations_list = []\n",
    "    mean = []\n",
    "    std = []\n",
    "    for df_age, age in zip(df_age_groups, ages):\n",
    "        print('Parameters for Ages', age+ ':')\n",
    "        df_hosp_icu_dead_dur = df_age[['BL_Duration_InpatientstayNewCat', \n",
    "                              'BL_Duration_ICUStayNewCat']][np.all([df_age['BL_Inpatient']=='1',\n",
    "                                                              df_age['BL_LastKnownStatus']==3, \n",
    "                                                              df_age['BL_ICU']=='1'], axis=0)]\n",
    "        hosp_duration = read_column(df_hosp_icu_dead_dur['BL_Duration_InpatientstayNewCat'], 2, 16)\n",
    "        icu_duration = read_column(df_hosp_icu_dead_dur['BL_Duration_ICUStayNewCat'], 2, 15)\n",
    "\n",
    "        durations_list.append(np.array(hosp_duration) - np.array(icu_duration))\n",
    "\n",
    "        icu_mean = np.mean(np.array(hosp_duration) - np.array(icu_duration))\n",
    "        print('Mean of Hospital to ICU (R7):', np.mean(np.array(hosp_duration) - np.array(icu_duration)))\n",
    "        print('STD of Hospital to ICU (R7):', np.std(np.array(hosp_duration) - np.array(icu_duration)))\n",
    "        mean.append(np.mean(np.array(hosp_duration) - np.array(icu_duration)))\n",
    "        std.append(np.std(np.array(hosp_duration) - np.array(icu_duration)))\n",
    "        print()\n",
    "\n",
    "    \n",
    "    unique_list, count_list = get_data_fits_and_plot(durations_list,'Time of Hospital Stay before ICU')    \n",
    "    \n",
    "    save_df(ages, unique_list, count_list, 'hosp_to_icu' + str(len(ages)))\n",
    "    \n",
    "    return mean, std"
   ]
  },
  {
   "cell_type": "code",
   "execution_count": null,
   "metadata": {},
   "outputs": [],
   "source": [
    "# calculates average time of ICU stay before recovering\n",
    "def calc_time_ICU_rec(df_age_groups, ages):\n",
    "    print('ICU to Recovered (R8):')\n",
    "    count_list = []\n",
    "    unique_list = []\n",
    "    durations_list = []\n",
    "    dist_params_list = []\n",
    "    mean = []\n",
    "    std = []\n",
    "    for df_age, age in zip(df_age_groups, ages):\n",
    "        print('Parameters for Ages', age+ ':')\n",
    "        df_hosp_icu_dead_dur = df_age[['BL_Duration_InpatientstayNewCat', \n",
    "                              'BL_Duration_ICUStayNewCat']][np.all([df_age['BL_Inpatient']=='1',\n",
    "                                                              df_age['BL_LastKnownStatus']==2, \n",
    "                                                              df_age['BL_ICU']=='1'], axis=0)]\n",
    "        icu_duration = read_column(df_hosp_icu_dead_dur['BL_Duration_ICUStayNewCat'], 2, 15)\n",
    "\n",
    "        durations_list.append(icu_duration)\n",
    "\n",
    "        print('Mean of ICU to Recovered (R8):', np.mean(icu_duration))\n",
    "        print('STD of ICU to Recovered (R8):', np.std(icu_duration))\n",
    "        \n",
    "        mean.append(np.mean(np.array(icu_duration)))\n",
    "        std.append(np.std(np.array(icu_duration)))\n",
    "        print()\n",
    "    \n",
    "    unique_list, count_list = get_data_fits_and_plot(durations_list,'Time of ICU Stay before Recovering')     \n",
    "    \n",
    "    save_df(ages, unique_list, count_list, 'icu_to_rec' + str(len(ages)))\n",
    "    \n",
    "    return mean, std\n",
    "\n"
   ]
  },
  {
   "cell_type": "code",
   "execution_count": null,
   "metadata": {},
   "outputs": [],
   "source": [
    "# calculates average time of ICU stay before dying\n",
    "def calc_time_ICU_death(df_age_groups, ages):\n",
    "    print('ICU to Death (R10):')\n",
    "    durations_list = []\n",
    "    mean = []\n",
    "    std = []\n",
    "    for df_age, age in zip(df_age_groups, ages):\n",
    "        print('Parameters for Ages', age+ ':')\n",
    "        df_hosp_icu_dead_dur = df_age[['BL_Duration_InpatientstayNewCat', \n",
    "                              'BL_Duration_ICUStayNewCat']][np.all([df_age['BL_Inpatient']=='1',\n",
    "                                                              df_age['BL_LastKnownStatus']==3, \n",
    "                                                              df_age['BL_ICU']=='1'], axis=0)]\n",
    "        icu_duration = read_column(df_hosp_icu_dead_dur['BL_Duration_ICUStayNewCat'], 2, 15)\n",
    "\n",
    "        durations_list.append(np.array(icu_duration))\n",
    "\n",
    "        print('Mean of ICU to Death (R10):', np.mean(icu_duration))\n",
    "        print('STD of ICU to Death (R10):', np.std(icu_duration))\n",
    "        \n",
    "        mean.append(np.mean(np.array(icu_duration)))\n",
    "        std.append(np.std(np.array(icu_duration)))\n",
    "        print()\n",
    "    \n",
    "    unique_list, count_list = get_data_fits_and_plot(durations_list,'Time of ICU Stay before Death')     \n",
    "    \n",
    "    save_df(ages, unique_list, count_list, 'icu_to_death' + str(len(ages)))\n",
    "    \n",
    "    return mean, std"
   ]
  },
  {
   "cell_type": "markdown",
   "metadata": {},
   "source": [
    "# All Ages"
   ]
  },
  {
   "cell_type": "markdown",
   "metadata": {},
   "source": [
    "### Theta and Delta"
   ]
  },
  {
   "cell_type": "code",
   "execution_count": null,
   "metadata": {},
   "outputs": [],
   "source": [
    "theta, delta = calc_prob([df], ['All'])"
   ]
  },
  {
   "cell_type": "markdown",
   "metadata": {},
   "source": [
    "### Hospital to Recovered (R5)"
   ]
  },
  {
   "cell_type": "code",
   "execution_count": null,
   "metadata": {
    "scrolled": false
   },
   "outputs": [],
   "source": [
    "R5_mean, R5_std = calc_time_hosp_rec([df], ['All'])"
   ]
  },
  {
   "cell_type": "markdown",
   "metadata": {},
   "source": [
    "### Infected to Hospital (R6)"
   ]
  },
  {
   "cell_type": "code",
   "execution_count": null,
   "metadata": {},
   "outputs": [],
   "source": [
    "R6_mean, R6_std = calc_time_inf_hosp([df], ['All'])"
   ]
  },
  {
   "cell_type": "markdown",
   "metadata": {},
   "source": [
    "### Hospital to ICU (R7)"
   ]
  },
  {
   "cell_type": "code",
   "execution_count": null,
   "metadata": {},
   "outputs": [],
   "source": [
    "R7_mean, R7_std = calc_time_hosp_ICU([df], ['All'])"
   ]
  },
  {
   "cell_type": "markdown",
   "metadata": {},
   "source": [
    "### ICU to Recovered (R8)"
   ]
  },
  {
   "cell_type": "code",
   "execution_count": null,
   "metadata": {},
   "outputs": [],
   "source": [
    "R8_mean, R8_std = calc_time_ICU_rec([df], ['All'])"
   ]
  },
  {
   "cell_type": "markdown",
   "metadata": {},
   "source": [
    "### ICU to Death (R10)"
   ]
  },
  {
   "cell_type": "code",
   "execution_count": null,
   "metadata": {},
   "outputs": [],
   "source": [
    "R10_mean, R10_std = calc_time_ICU_death([df], ['All'])"
   ]
  },
  {
   "cell_type": "code",
   "execution_count": null,
   "metadata": {},
   "outputs": [],
   "source": [
    "params = pd.DataFrame([theta, delta, \n",
    "                       R5_mean, R6_mean, R7_mean, R8_mean, R10_mean, \n",
    "                       R5_std, R6_std, R7_std, R8_std, R10_std], \n",
    "                      columns=['All'], index=['theta', 'delta', \n",
    "                       'R5_mean', 'R6_mean', 'R7_mean', 'R8_mean', 'R10_mean', \n",
    "                       'R5_std', 'R6_std', 'R7_std', 'R8_std', 'R10_std']).T\n",
    "display(params)\n",
    "params.to_csv('params_1age_groups.csv')"
   ]
  },
  {
   "cell_type": "markdown",
   "metadata": {},
   "source": [
    "# (Almost) RKI age groups"
   ]
  },
  {
   "cell_type": "code",
   "execution_count": null,
   "metadata": {},
   "outputs": [],
   "source": [
    "# Devide DF into Age Groups\n",
    "\n",
    "df_age_groups = []\n",
    "\n",
    "# variant 1\n",
    "#ages = ['0-4', '4-17', '15-35', '35-65', '65-75', '75+']\n",
    "#df_age_groups.append(df[np.any([df['BL_Age']==1, df['BL_Age']==2], axis=0)]) # Age 0-4\n",
    "#df_age_groups.append(df[np.any([df['BL_Age']==3, df['BL_Age']==4, df['BL_Age']==5], axis=0)]) # Age 4-17\n",
    "\n",
    "#variant 2\n",
    "ages = ['0-17', '15-35', '35-65', '65-75', '75+']\n",
    "df_age_groups.append(df[np.any([df['BL_Age']==1, df['BL_Age']==2, df['BL_Age']==3, df['BL_Age']==4, df['BL_Age']==5], axis=0)]) # Age 0-17\n",
    "\n",
    "df_age_groups.append(df[np.any([df['BL_Age']==13, df['BL_Age']==14, df['BL_Age']==6], axis=0)]) # Age 15-25 # Age 25-35\n",
    "\n",
    "df_age_groups.append(df[np.any([df['BL_Age']==7, df['BL_Age']==8, df['BL_Age']==9], axis=0)]) # Age 35-45 # Age 45-55 # Age 55-65\n",
    "df_age_groups.append(df[df['BL_Age']==10]) # Age 65-75\n",
    "df_age_groups.append(df[np.any([df['BL_Age']==11, df['BL_Age']==12], axis=0)]) # Age 75+\n",
    "\n",
    "for df_age, age in zip(df_age_groups, ages):\n",
    "    print('Number of Patients in age group', age + ':\\t', len(df_age))"
   ]
  },
  {
   "cell_type": "markdown",
   "metadata": {},
   "source": [
    "### Hospitalized per ICU (theta) and Death per ICU (delta)"
   ]
  },
  {
   "cell_type": "code",
   "execution_count": null,
   "metadata": {},
   "outputs": [],
   "source": [
    "mu_HU, mu_DU = calc_prob(df_age_groups, ages)"
   ]
  },
  {
   "cell_type": "markdown",
   "metadata": {},
   "source": [
    "### Hospital to Recovered (R5)"
   ]
  },
  {
   "cell_type": "code",
   "execution_count": null,
   "metadata": {
    "scrolled": false
   },
   "outputs": [],
   "source": [
    "R5_mean, R5_std = calc_time_hosp_rec(df_age_groups, ages)"
   ]
  },
  {
   "cell_type": "markdown",
   "metadata": {},
   "source": [
    "### Infected to Hospital (R6)"
   ]
  },
  {
   "cell_type": "code",
   "execution_count": null,
   "metadata": {},
   "outputs": [],
   "source": [
    "R6_mean, R6_std = calc_time_inf_hosp(df_age_groups, ages)"
   ]
  },
  {
   "cell_type": "markdown",
   "metadata": {},
   "source": [
    "### Hospital to ICU (R7)"
   ]
  },
  {
   "cell_type": "code",
   "execution_count": null,
   "metadata": {},
   "outputs": [],
   "source": [
    "R7_mean, R7_std = calc_time_hosp_ICU(df_age_groups, ages)"
   ]
  },
  {
   "cell_type": "markdown",
   "metadata": {},
   "source": [
    "### ICU to Recovered (R8)"
   ]
  },
  {
   "cell_type": "code",
   "execution_count": null,
   "metadata": {},
   "outputs": [],
   "source": [
    "R8_mean, R8_std = calc_time_ICU_rec(df_age_groups, ages)"
   ]
  },
  {
   "cell_type": "markdown",
   "metadata": {},
   "source": [
    "### ICU to Death (R10)"
   ]
  },
  {
   "cell_type": "code",
   "execution_count": null,
   "metadata": {
    "scrolled": false
   },
   "outputs": [],
   "source": [
    "R10_mean, R10_std = calc_time_ICU_death(df_age_groups, ages)"
   ]
  },
  {
   "cell_type": "code",
   "execution_count": null,
   "metadata": {},
   "outputs": [],
   "source": [
    "params = pd.DataFrame([theta, delta, \n",
    "                       R5_mean, R6_mean, R7_mean, R8_mean, R10_mean, \n",
    "                       R5_std, R6_std, R7_std, R8_std, R10_std], \n",
    "                      columns=ages, index=['theta', 'delta', \n",
    "                       'R5_mean', 'R6_mean', 'R7_mean', 'R8_mean', 'R10_mean', \n",
    "                       'R5_std', 'R6_std', 'R7_std', 'R8_std', 'R10_std']).T\n",
    "display(params)\n",
    "\n",
    "params.to_csv('params_8age_groups.csv')"
   ]
  },
  {
   "cell_type": "markdown",
   "metadata": {},
   "source": [
    "# 8 Age Groups"
   ]
  },
  {
   "cell_type": "code",
   "execution_count": null,
   "metadata": {},
   "outputs": [],
   "source": [
    "# Devide DF into Age Groups\n",
    "\n",
    "df_age_groups = []\n",
    "ages = ['0-4', '4-17', '15-25', '25-35', '35-45', '45-55', '55-65', '65-75', '75+']\n",
    "\n",
    "df_age_groups.append(df[np.any([df['BL_Age']==1, df['BL_Age']==2], axis=0)]) # Age 0-4\n",
    "df_age_groups.append(df[np.any([df['BL_Age']==3, df['BL_Age']==4, df['BL_Age']==5], axis=0)]) # Age 4-17\n",
    "df_age_groups.append(df[np.any([df['BL_Age']==13, df['BL_Age']==14], axis=0)]) # Age 15-25\n",
    "df_age_groups.append(df[df['BL_Age']==6]) # Age 25-35\n",
    "df_age_groups.append(df[df['BL_Age']==7]) # Age 35-45\n",
    "df_age_groups.append(df[df['BL_Age']==8]) # Age 45-55\n",
    "df_age_groups.append(df[df['BL_Age']==9]) # Age 55-65\n",
    "df_age_groups.append(df[df['BL_Age']==10]) # Age 65-75\n",
    "df_age_groups.append(df[np.any([df['BL_Age']==11, df['BL_Age']==12], axis=0)]) # Age 75+\n",
    "\n",
    "for df_age, age in zip(df_age_groups, ages):\n",
    "    print('Number of Patients in age group', age + ':\\t', len(df_age))"
   ]
  },
  {
   "cell_type": "markdown",
   "metadata": {},
   "source": [
    "# 3 Age Groups"
   ]
  },
  {
   "cell_type": "code",
   "execution_count": null,
   "metadata": {},
   "outputs": [],
   "source": [
    "df_age_groups = []\n",
    "ages = ['0-25', '25-55', '55+']\n",
    "\n",
    "df_age_groups.append(df[np.any([df['BL_Age']==1, df['BL_Age']==2, \n",
    "                                df['BL_Age']==3, df['BL_Age']==4, df['BL_Age']==5, \n",
    "                                df['BL_Age']==13, df['BL_Age']==14], axis=0)]) # Age 0-25\n",
    "df_age_groups.append(df[np.any([df['BL_Age']==6, df['BL_Age']==7, \n",
    "                                df['BL_Age']==8], axis=0)]) # Age 25-55\n",
    "df_age_groups.append(df[np.any([df['BL_Age']==9, df['BL_Age']==10, \n",
    "                                df['BL_Age']==11, df['BL_Age']==12], axis=0)]) # Age 55+\n",
    "\n",
    "for df_age, age in zip(df_age_groups, ages):\n",
    "    print('Number of Patients in age group', age + ':\\t', len(df_age))"
   ]
  },
  {
   "cell_type": "code",
   "execution_count": null,
   "metadata": {},
   "outputs": [],
   "source": [
    "from pylab import *\n",
    "from scipy import stats as st\n",
    " \n",
    "x = [[19.8815 ],[19.0141 ],[18.1857 ],[17.3943 ],[16.6382 ],[15.9158 ],[15.2254 ],[14.5657 ],[13.9352 ],[13.3325 ],[12.7564 ],[12.2056 ],[11.679 ],[11.1755 ],\n",
    "[22.6941 ],[10.2338 ],[ 9.79353],[ 9.37249],[ 8.96979],[ 8.58462],[ 8.21619],[ 7.86376],[ 7.52662],[ 7.20409],[ 6.89552],[ 6.6003 ],\n",
    "[ 6.31784],[ 6.04757],[ 5.78897],[ 5.54151],[ 5.30472],[ 5.07812],[ 4.86127],[ 4.65375],[ 4.45514],[ 4.26506],[ 4.08314],[ 3.90903],[ 3.74238],\n",
    "[ 3.58288],[ 3.4302 ],[ 3.28407],[ 3.14419],[ 3.01029],[ 2.88212],[ 2.75943],[ 2.64198],[ 2.52955],[ 2.42192],[ 2.31889],[ 2.22026],[ 2.12583],\n",
    "[ 2.03543],[ 1.94889],[ 1.86604],[ 1.78671],[ 1.71077],[ 1.63807],[ 1.56845],[ 1.50181],[ 1.43801],[ 1.37691],[ 1.31842],[ 1.26242],[ 1.2088 ],\n",
    "[ 1.15746],[ 1.10832],[ 1.06126],[ 1.01619]]\n",
    " \n",
    " \n",
    "x = np.array(x).ravel()\n",
    " \n",
    " \n",
    "# testing for lognormality\n",
    "# the data is lognormal if np.log(data) is normal\n",
    "pvalx = st.shapiro(np.log(x))[-1]\n",
    "print(\"p-value for `accepting` lognormality of x-data = \", pvalx)\n",
    "print(\"Ok: the array come from lognormal distribution\" if pvalx>0.01  else \"Hm...  the array isn't lognormal\")\n",
    " \n",
    " \n",
    "print('Raw mean value of x-data is: ', np.mean(x)) # Note: median and mean values could significantly differ in case of lognormal distribution\n",
    "print('Mean value of related normal distribution: ',  np.mean(np.log(x))) \n",
    "print('Mapped mean value: ',  np.exp(np.mean(np.log(x)))) \n",
    "  \n",
    "s, loc, scale = st.lognorm.fit(x, floc=0) #x0 is rawdata x-axis\n",
    "estimated_mu = np.log(scale)\n",
    " \n",
    "print(\"Estimated mu is almost equal to mapped mean value (above):  \", abs(np.exp(estimated_mu)-np.exp(np.mean(np.log(x)))))"
   ]
  },
  {
   "cell_type": "code",
   "execution_count": null,
   "metadata": {},
   "outputs": [],
   "source": [
    "    severe_probs=np.array([0.00050, 0.00165, 0.00720, 0.02080, 0.03430, 0.07650, 0.13280, (0.20655 + 0.24570)/2]) # Overall probability of developing severe symptoms (derived from Table 1 of https://www.imperial.ac.uk/media/imperial-college/medicine/mrc-gida/2020-03-16-COVID19-Report-9.pdf)\n",
    "    crit_probs=np.array([0.00003, 0.00008, 0.00036, 0.00104, 0.00216, 0.00933, 0.03639, (0.08923 + 0.17420)/2]) # Overall probability of developing critical symptoms (derived from Table 1 of https://www.imperial.ac.uk/media/imperial-college/medicine/mrc-gida/2020-03-16-COVID19-Report-9.pdf)\n",
    "    death_probs=np.array([0.00002, 0.00006, 0.00030, 0.00080, 0.00150, 0.00600, 0.02200, (0.05100 + 0.09300)/2])"
   ]
  },
  {
   "cell_type": "code",
   "execution_count": null,
   "metadata": {},
   "outputs": [],
   "source": []
  }
 ],
 "metadata": {
  "kernelspec": {
   "display_name": "Python 3",
   "language": "python",
   "name": "python3"
  },
  "language_info": {
   "codemirror_mode": {
    "name": "ipython",
    "version": 3
   },
   "file_extension": ".py",
   "mimetype": "text/x-python",
   "name": "python",
   "nbconvert_exporter": "python",
   "pygments_lexer": "ipython3",
   "version": "3.8.3"
  }
 },
 "nbformat": 4,
 "nbformat_minor": 4
}
