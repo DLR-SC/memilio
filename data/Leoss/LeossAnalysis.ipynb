{
 "cells": [
  {
   "cell_type": "code",
   "execution_count": null,
   "metadata": {},
   "outputs": [],
   "source": [
    "import numpy as np\n",
    "import pandas as pd\n",
    "import matplotlib.pyplot as plt"
   ]
  },
  {
   "cell_type": "code",
   "execution_count": null,
   "metadata": {},
   "outputs": [],
   "source": [
    "def read_column(df, min_val=None, max_val=None):\n",
    "    duration = []\n",
    "    for i in range(len(df)):\n",
    "        if '<' in df.values[i]:\n",
    "            if min_val is not None:\n",
    "                duration.append(min_val)\n",
    "        elif '>' in df.values[i]:\n",
    "            if max_val is not None:\n",
    "                duration.append(max_val)\n",
    "        else:\n",
    "            duration.append(int(df.values[i]))\n",
    "            \n",
    "    print(\"Number of Patients: \", len(duration))\n",
    "            \n",
    "    return duration"
   ]
  },
  {
   "cell_type": "code",
   "execution_count": null,
   "metadata": {},
   "outputs": [],
   "source": [
    "def calc_prob(df_age_groups, ages):\n",
    "    mu_HU_list = []\n",
    "    mu_UD_list = []\n",
    "    for (df_age, age) in zip(df_age_groups, ages):\n",
    "        df_hosp = df_age[['BL_Duration_Inpatientstay', 'BL_Duration_ICUStay', 'BL_LastKnownStatus', 'BL_Admission']]\n",
    "        df_hosp = df_hosp[df_hosp['BL_Duration_Inpatientstay']!='Missing']\n",
    "        df_icu = df_hosp[df_hosp['BL_Duration_ICUStay']!='Missing']\n",
    "        df_dead = df_icu[df_icu['BL_LastKnownStatus']==3]\n",
    "        df_icu_rec = df_icu[df_icu['BL_LastKnownStatus']==2]\n",
    "        df_hosp_rec = df_hosp[np.all([df_hosp['BL_LastKnownStatus']==2, df_hosp['BL_Duration_ICUStay']=='Missing'], axis=0)]\n",
    "\n",
    "\n",
    "        num_hosp = len(df_hosp.values[:,0])\n",
    "        num_icu = len(df_icu.values[:,0])\n",
    "        num_dead = len(df_dead.values[:,0])\n",
    "\n",
    "        num_rec_hosp = len(df_hosp_rec.values[:,0])\n",
    "        num_rec_icu = len(df_icu_rec.values[:,0])\n",
    "\n",
    "        if num_hosp > 0:\n",
    "            mu_HU = num_icu/num_hosp\n",
    "            mu_HU_list.append(mu_HU)\n",
    "        else: \n",
    "            mu_HU = 'No Entries for this Age Group'\n",
    "            mu_HU_list.append(0)\n",
    "\n",
    "        if num_icu > 0:\n",
    "            mu_UD = num_dead/num_icu\n",
    "            mu_UD_list.append(mu_UD)\n",
    "        else:\n",
    "            mu_UD = 'No Entries for this Age Group'\n",
    "            mu_UD_list.append(0)\n",
    "\n",
    "        print('Parameters for Ages', age+ ':')\n",
    "        print('Theta:', mu_HU)\n",
    "        print('Delta:', mu_UD)\n",
    "        print('')\n",
    "\n",
    "\n",
    "    if len(mu_UD_list) > 1:\n",
    "        fig, ax = plt.subplots(1,1,figsize=(9,6))\n",
    "        ax.plot(range(len(ages)), mu_UD_list)\n",
    "        ax.set_xticks(range(len(ages)))\n",
    "        ax.set_xticklabels(ages)\n",
    "        ax.set_title('Probability of death during ICU',fontsize=18)\n",
    "        ax.set_xlabel('Age Group', fontsize=18)\n",
    "        ax.set_ylabel('Probability', fontsize=18)\n",
    "        plt.show()\n",
    "\n",
    "        fig, ax = plt.subplots(1,1,figsize=(9,6))\n",
    "        ax.plot(range(len(ages)), mu_HU_list)\n",
    "        ax.set_xticks(range(len(ages)))\n",
    "        ax.set_xticklabels(ages)\n",
    "        ax.set_title('Probability of ICU during Hospitalstay',fontsize=18)\n",
    "        ax.set_xlabel('Age Group', fontsize=18)\n",
    "        ax.set_ylabel('Probability', fontsize=18)\n",
    "        plt.show()"
   ]
  },
  {
   "cell_type": "code",
   "execution_count": null,
   "metadata": {},
   "outputs": [],
   "source": [
    "def calc_R5(df_age_groups, ages):\n",
    "    print('R5:')\n",
    "    durations = []\n",
    "    for df_age, age in zip(df_age_groups, ages):\n",
    "        print('Parameters for Ages', age+ ':')\n",
    "        df_hosp_rec_dur = df_age['BL_Duration_Inpatientstay'][np.all([df_age['BL_Duration_Inpatientstay']!='Missing',\n",
    "                                                                       df_age['BL_LastKnownStatus']==2, \n",
    "                                                                       df_age['BL_Duration_ICUStay']=='Missing'], axis=0)]\n",
    "\n",
    "        duration = read_column(df_hosp_rec_dur, 2, 15)\n",
    "\n",
    "        print('Mean of R5:', np.mean(duration))\n",
    "        print('STD of R5:', np.std(duration), '\\n')\n",
    "        durations.append(duration)\n",
    "\n",
    "    fig, ax = plt.subplots(1,1,figsize=(9,6))\n",
    "    ax.hist(durations, 15, edgecolor='k')\n",
    "    if len(durations) > 1:\n",
    "        ax.legend(ages, fontsize=min(18,18*6/len(durations)))\n",
    "    ax.set_title('Time spent in hospital before recovering', fontsize = 18)\n",
    "    ax.set_xlabel('Time [Days]', fontsize=18)\n",
    "    ax.set_ylabel('Number of Patients', fontsize=18)\n",
    "    plt.show()"
   ]
  },
  {
   "cell_type": "code",
   "execution_count": null,
   "metadata": {},
   "outputs": [],
   "source": [
    "def calc_R6(df_age_groups, ages):\n",
    "    print('R6:')\n",
    "    durations = []\n",
    "    for df_age, age in zip(df_age_groups, ages):\n",
    "        print('Parameters for Ages', age+ ':')\n",
    "        df_admission = df_age['BL_Admission'][df_age['BL_Admission']!='Missing']\n",
    "\n",
    "\n",
    "        duration = read_column(df_admission, max_val=7)\n",
    "\n",
    "        print('Mean of R6:', np.mean(duration))\n",
    "        print('STD of R6:', np.std(duration))\n",
    "        durations.append(duration)\n",
    "        print()\n",
    "\n",
    "    fig, ax = plt.subplots(1,1,figsize=(9,6))\n",
    "    ax.hist(durations, 15, edgecolor='k')\n",
    "    if len(durations) > 1:\n",
    "        ax.legend(ages, fontsize=min(18,18*6/len(durations)))\n",
    "    ax.set_title('Time of known infection before admission', fontsize = 18)\n",
    "    ax.set_xlabel('Time [Days]', fontsize=18)\n",
    "    ax.set_ylabel('Number of Patients', fontsize=18)\n",
    "    plt.show()   \n"
   ]
  },
  {
   "cell_type": "code",
   "execution_count": null,
   "metadata": {},
   "outputs": [],
   "source": [
    "def calc_R7(df_age_groups, ages):\n",
    "    print('R7:')\n",
    "    durations = []\n",
    "    for df_age, age in zip(df_age_groups, ages):\n",
    "        print('Parameters for Ages', age+ ':')\n",
    "        df_hosp_icu_dead_dur = df_age[['BL_Duration_Inpatientstay', \n",
    "                              'BL_Duration_ICUStay']][np.all([df_age['BL_Duration_Inpatientstay']!='Missing',\n",
    "                                                              df_age['BL_LastKnownStatus']==3, \n",
    "                                                              df_age['BL_Duration_ICUStay']!='Missing'], axis=0)]\n",
    "        hosp_duration = read_column(df_hosp_icu_dead_dur['BL_Duration_Inpatientstay'], 1.5, 16)\n",
    "        icu_duration = read_column(df_hosp_icu_dead_dur['BL_Duration_ICUStay'], 2, 15)\n",
    "\n",
    "        durations.append(np.array(hosp_duration) - np.array(icu_duration))\n",
    "\n",
    "        icu_mean = np.mean(np.array(hosp_duration) - np.array(icu_duration))\n",
    "        print('Mean of R7:', np.mean(np.array(hosp_duration) - np.array(icu_duration)))\n",
    "        print('STD of R7:', np.std(np.array(hosp_duration) - np.array(icu_duration)))\n",
    "        print()\n",
    "\n",
    "    fig, ax = plt.subplots(1,1,figsize=(9,6))\n",
    "    ax.hist(durations, 15, edgecolor='k')\n",
    "    if len(durations) > 1:\n",
    "        ax.legend(ages, fontsize=min(18,18*6/len(durations)))\n",
    "    ax.set_title('Time of Hospital Stay before ICU', fontsize = 18)\n",
    "    ax.set_xlabel('Time [Days]', fontsize=18)\n",
    "    ax.set_ylabel('Number of Patients', fontsize=18)\n",
    "    plt.show() "
   ]
  },
  {
   "cell_type": "code",
   "execution_count": null,
   "metadata": {},
   "outputs": [],
   "source": [
    "def calc_R8(df_age_groups, ages):\n",
    "    print('R8:')\n",
    "    durations = []\n",
    "    for df_age, age in zip(df_age_groups, ages):\n",
    "        print('Parameters for Ages', age+ ':')\n",
    "        df_hosp_icu_dead_dur = df_age[['BL_Duration_Inpatientstay', \n",
    "                              'BL_Duration_ICUStay']][np.all([df_age['BL_Duration_Inpatientstay']!='Missing',\n",
    "                                                              df_age['BL_LastKnownStatus']==2, \n",
    "                                                              df_age['BL_Duration_ICUStay']!='Missing'], axis=0)]\n",
    "        icu_duration = read_column(df_hosp_icu_dead_dur['BL_Duration_ICUStay'], 2, 15)\n",
    "\n",
    "        durations.append(icu_duration)\n",
    "\n",
    "        print('Mean of R8:', np.mean(icu_duration))\n",
    "        print('STD of R8:', np.std(icu_duration))\n",
    "        print()\n",
    "\n",
    "    fig, ax = plt.subplots(1,1,figsize=(9,6))\n",
    "    ax.hist(durations, 15, edgecolor='k')\n",
    "    if len(durations) > 1:\n",
    "        ax.legend(ages, fontsize=min(18,18*6/len(durations)))\n",
    "    ax.set_title('Time of ICU Stay before Recovering', fontsize = 18)\n",
    "    ax.set_xlabel('Time [Days]', fontsize=18)\n",
    "    ax.set_ylabel('Number of Patients', fontsize=18)\n",
    "    plt.show() \n",
    "\n"
   ]
  },
  {
   "cell_type": "code",
   "execution_count": null,
   "metadata": {},
   "outputs": [],
   "source": [
    "def calc_R10(df_age_groups, ages):\n",
    "    print('R10:')\n",
    "    durations = []\n",
    "    for df_age, age in zip(df_age_groups, ages):\n",
    "        print('Parameters for Ages', age+ ':')\n",
    "        df_hosp_icu_dead_dur = df_age[['BL_Duration_Inpatientstay', \n",
    "                              'BL_Duration_ICUStay']][np.all([df_age['BL_Duration_Inpatientstay']!='Missing',\n",
    "                                                              df_age['BL_LastKnownStatus']==3, \n",
    "                                                              df_age['BL_Duration_ICUStay']!='Missing'], axis=0)]\n",
    "        icu_duration = read_column(df_hosp_icu_dead_dur['BL_Duration_ICUStay'], 2, 15)\n",
    "\n",
    "        durations.append(np.array(icu_duration))\n",
    "\n",
    "        print('Mean of R10:', np.mean(icu_duration))\n",
    "        print('STD of R10:', np.std(icu_duration))\n",
    "        print()\n",
    "\n",
    "    fig, ax = plt.subplots(1,1,figsize=(9,6))\n",
    "    ax.hist(durations, 15,  histtype = 'bar', edgecolor='k')\n",
    "    if len(durations) > 1:\n",
    "        ax.legend(ages, fontsize=min(18,18*6/len(durations)))\n",
    "    ax.set_title('Time of ICU Stay before Death', fontsize = 18)\n",
    "    ax.set_xlabel('Time [Days]', fontsize=18)\n",
    "    ax.set_ylabel('Number of Patients', fontsize=18)\n",
    "    plt.show() "
   ]
  },
  {
   "cell_type": "markdown",
   "metadata": {},
   "source": [
    "# Load Data"
   ]
  },
  {
   "cell_type": "code",
   "execution_count": null,
   "metadata": {},
   "outputs": [],
   "source": [
    "# Load Data\n",
    "df = pd.read_csv('LEOSS Kuehn 08 25/SUF_Kuehn_200825.csv', sep=';')\n",
    "\n",
    "# Only keep entries that either recovered or died specifically from Covid-19\n",
    "df = df[np.any([(df['BL_LastKnownStatus'] == 2).values, (df['BL_LastKnownStatus'] == 3).values], axis=0)]\n",
    "\n",
    "# Discard entries with unknown age and convert to int\n",
    "df = df[df['BL_Age']!='*']\n",
    "df['BL_Age'] = df['BL_Age'].astype(int)\n",
    "\n",
    "display(df)\n",
    "\n",
    "# Partial DF consitent of information regarding Symptoms\n",
    "df_asymp = df[['BL_Symp_Asymptomatic','BL_Symp_AsymptomaticUnknown','UC_Symp_Asymptomatic',\n",
    "            'UC_Symp_AsymptomaticUnknown', 'CO_Symp_Asymptomatic','CO_Symp_AsymptomaticUnknown'\n",
    "            ,'CR_Symp_Asymptomatic', 'CR_Symp_AsymptomaticUnknown']]\n",
    "\n",
    "# Partial DF consitent of information regarding Duration\n",
    "df_period = df[['BL_Duration_Inpatientstay','BL_Duration_ICUStay','BL_Duration_Ventilation','BL_ObservationalPeriod']]"
   ]
  },
  {
   "cell_type": "markdown",
   "metadata": {},
   "source": [
    "# All Ages"
   ]
  },
  {
   "cell_type": "markdown",
   "metadata": {},
   "source": [
    "### Theta and Delta"
   ]
  },
  {
   "cell_type": "code",
   "execution_count": null,
   "metadata": {},
   "outputs": [],
   "source": [
    "calc_prob([df], ['All'])"
   ]
  },
  {
   "cell_type": "markdown",
   "metadata": {},
   "source": [
    "### R5 (Hospital to Recovered)"
   ]
  },
  {
   "cell_type": "code",
   "execution_count": null,
   "metadata": {},
   "outputs": [],
   "source": [
    "calc_R5([df], ['All'])"
   ]
  },
  {
   "cell_type": "markdown",
   "metadata": {},
   "source": [
    "### R6 (Infected to Hospital)"
   ]
  },
  {
   "cell_type": "code",
   "execution_count": null,
   "metadata": {},
   "outputs": [],
   "source": [
    "calc_R6([df], ['All'])"
   ]
  },
  {
   "cell_type": "markdown",
   "metadata": {},
   "source": [
    "### R7 (Hospital to ICU)"
   ]
  },
  {
   "cell_type": "code",
   "execution_count": null,
   "metadata": {},
   "outputs": [],
   "source": [
    "calc_R7([df], ['All'])"
   ]
  },
  {
   "cell_type": "markdown",
   "metadata": {},
   "source": [
    "### R8 (ICU to Recovered)"
   ]
  },
  {
   "cell_type": "code",
   "execution_count": null,
   "metadata": {},
   "outputs": [],
   "source": [
    "calc_R8([df], ['All'])"
   ]
  },
  {
   "cell_type": "markdown",
   "metadata": {},
   "source": [
    "### R10 (ICU to Death)"
   ]
  },
  {
   "cell_type": "code",
   "execution_count": null,
   "metadata": {},
   "outputs": [],
   "source": [
    "calc_R10([df], ['All'])"
   ]
  },
  {
   "cell_type": "markdown",
   "metadata": {},
   "source": [
    "# 8 Age Groups"
   ]
  },
  {
   "cell_type": "code",
   "execution_count": null,
   "metadata": {},
   "outputs": [],
   "source": [
    "# Devide DF into Age Groups\n",
    "\n",
    "df_age_groups = []\n",
    "ages = ['0-4', '4-17', '15-25', '25-35', '35-45', '45-55', '55-65', '65-75', '75+']\n",
    "\n",
    "df_age_groups.append(df[np.any([df['BL_Age']==1, df['BL_Age']==2], axis=0)]) # Age 0-4\n",
    "df_age_groups.append(df[np.any([df['BL_Age']==3, df['BL_Age']==4, df['BL_Age']==5], axis=0)]) # Age 4-17\n",
    "df_age_groups.append(df[np.any([df['BL_Age']==13, df['BL_Age']==14], axis=0)]) # Age 15-25\n",
    "df_age_groups.append(df[df['BL_Age']==6]) # Age 25-35\n",
    "df_age_groups.append(df[df['BL_Age']==7]) # Age 35-45\n",
    "df_age_groups.append(df[df['BL_Age']==8]) # Age 45-55\n",
    "df_age_groups.append(df[df['BL_Age']==9]) # Age 55-65\n",
    "df_age_groups.append(df[df['BL_Age']==10]) # Age 65-75\n",
    "df_age_groups.append(df[np.any([df['BL_Age']==11, df['BL_Age']==12], axis=0)]) # Age 75+\n",
    "\n",
    "for df_age, age in zip(df_age_groups, ages):\n",
    "    print('Number of Patients in age group', age + ':\\t', len(df_age))"
   ]
  },
  {
   "cell_type": "markdown",
   "metadata": {},
   "source": [
    "### Theta and Delta"
   ]
  },
  {
   "cell_type": "code",
   "execution_count": null,
   "metadata": {},
   "outputs": [],
   "source": [
    "calc_prob(df_age_groups, ages)"
   ]
  },
  {
   "cell_type": "markdown",
   "metadata": {},
   "source": [
    "### R5 (Hospital to Recovered)"
   ]
  },
  {
   "cell_type": "code",
   "execution_count": null,
   "metadata": {},
   "outputs": [],
   "source": [
    "calc_R5(df_age_groups, ages)"
   ]
  },
  {
   "cell_type": "markdown",
   "metadata": {},
   "source": [
    "### R6 (Infected to Hospital)"
   ]
  },
  {
   "cell_type": "code",
   "execution_count": null,
   "metadata": {},
   "outputs": [],
   "source": [
    "calc_R6(df_age_groups, ages)"
   ]
  },
  {
   "cell_type": "markdown",
   "metadata": {},
   "source": [
    "### R7 (Hospital to ICU)"
   ]
  },
  {
   "cell_type": "code",
   "execution_count": null,
   "metadata": {},
   "outputs": [],
   "source": [
    "calc_R7(df_age_groups, ages)"
   ]
  },
  {
   "cell_type": "markdown",
   "metadata": {},
   "source": [
    "### R8 (ICU to Recovered)"
   ]
  },
  {
   "cell_type": "code",
   "execution_count": null,
   "metadata": {},
   "outputs": [],
   "source": [
    "calc_R8(df_age_groups, ages)"
   ]
  },
  {
   "cell_type": "markdown",
   "metadata": {},
   "source": [
    "### R10 (ICU to Death)"
   ]
  },
  {
   "cell_type": "code",
   "execution_count": null,
   "metadata": {
    "scrolled": false
   },
   "outputs": [],
   "source": [
    "calc_R10(df_age_groups, ages)"
   ]
  },
  {
   "cell_type": "markdown",
   "metadata": {},
   "source": [
    "# 3 Age Groups"
   ]
  },
  {
   "cell_type": "code",
   "execution_count": null,
   "metadata": {},
   "outputs": [],
   "source": [
    "df_age_groups = []\n",
    "ages = ['0-25', '25-55', '55+']\n",
    "\n",
    "df_age_groups.append(df[np.any([df['BL_Age']==1, df['BL_Age']==2, \n",
    "                                df['BL_Age']==3, df['BL_Age']==4, df['BL_Age']==5, \n",
    "                                df['BL_Age']==13, df['BL_Age']==14], axis=0)]) # Age 0-25\n",
    "df_age_groups.append(df[np.any([df['BL_Age']==6, df['BL_Age']==7, \n",
    "                                df['BL_Age']==8], axis=0)]) # Age 25-55\n",
    "df_age_groups.append(df[np.any([df['BL_Age']==9, df['BL_Age']==10, \n",
    "                                df['BL_Age']==11, df['BL_Age']==12], axis=0)]) # Age 55+\n",
    "\n",
    "for df_age, age in zip(df_age_groups, ages):\n",
    "    print('Number of Patients in age group', age + ':\\t', len(df_age))"
   ]
  },
  {
   "cell_type": "markdown",
   "metadata": {},
   "source": [
    "### Theta and Delta"
   ]
  },
  {
   "cell_type": "code",
   "execution_count": null,
   "metadata": {},
   "outputs": [],
   "source": [
    "calc_prob(df_age_groups, ages)"
   ]
  },
  {
   "cell_type": "markdown",
   "metadata": {},
   "source": [
    "### R5 (Hospital to Recovered)"
   ]
  },
  {
   "cell_type": "code",
   "execution_count": null,
   "metadata": {},
   "outputs": [],
   "source": [
    "calc_R5(df_age_groups, ages)"
   ]
  },
  {
   "cell_type": "markdown",
   "metadata": {},
   "source": [
    "### R6 (Infected to Hospital)"
   ]
  },
  {
   "cell_type": "code",
   "execution_count": null,
   "metadata": {},
   "outputs": [],
   "source": [
    "calc_R6(df_age_groups, ages)"
   ]
  },
  {
   "cell_type": "markdown",
   "metadata": {},
   "source": [
    "### R7 (Hospital to ICU)"
   ]
  },
  {
   "cell_type": "code",
   "execution_count": null,
   "metadata": {},
   "outputs": [],
   "source": [
    "calc_R7(df_age_groups, ages)"
   ]
  },
  {
   "cell_type": "markdown",
   "metadata": {},
   "source": [
    "### R8 (ICU to Recovered)"
   ]
  },
  {
   "cell_type": "code",
   "execution_count": null,
   "metadata": {},
   "outputs": [],
   "source": [
    "calc_R8(df_age_groups, ages)"
   ]
  },
  {
   "cell_type": "markdown",
   "metadata": {},
   "source": [
    "### R10 (ICU to Death)"
   ]
  },
  {
   "cell_type": "code",
   "execution_count": null,
   "metadata": {},
   "outputs": [],
   "source": [
    "calc_R10(df_age_groups, ages)"
   ]
  },
  {
   "cell_type": "code",
   "execution_count": null,
   "metadata": {},
   "outputs": [],
   "source": [
    "for i in range(len(df.columns)):\n",
    "    print(df.columns[i])"
   ]
  }
 ],
 "metadata": {
  "kernelspec": {
   "display_name": "Python 3",
   "language": "python",
   "name": "python3"
  },
  "language_info": {
   "codemirror_mode": {
    "name": "ipython",
    "version": 3
   },
   "file_extension": ".py",
   "mimetype": "text/x-python",
   "name": "python",
   "nbconvert_exporter": "python",
   "pygments_lexer": "ipython3",
   "version": "3.8.2"
  }
 },
 "nbformat": 4,
 "nbformat_minor": 4
}
