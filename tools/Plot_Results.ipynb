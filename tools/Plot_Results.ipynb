{
 "cells": [
  {
   "cell_type": "code",
   "execution_count": null,
   "metadata": {},
   "outputs": [],
   "source": [
    "import pandas as pd\n",
    "import numpy as np\n",
    "import h5py\n",
    "import os\n",
    "import datetime\n",
    "import copy\n",
    "import matplotlib.pyplot as plt\n",
    "from matplotlib import ticker\n",
    "plt.rcParams['figure.facecolor'] = 'w'\n",
    "plt.rcParams['axes.facecolor'] = 'w'"
   ]
  },
  {
   "cell_type": "code",
   "execution_count": null,
   "metadata": {},
   "outputs": [],
   "source": [
    "year, month, day = '2021', '6', '6'\n",
    "start_date = pd.Timestamp(year + '.' + month.zfill(2) + '.' + day.zfill(2))\n",
    "tmax = '90'\n",
    "daysPlot = 91\n",
    "\n",
    "#define scenarios\n",
    "strings = ['_late_mask_test']\n",
    "#define compartments\n",
    "secir_dict = {0:'Susceptible', 1:'SusceptibleV1', 2:'Exposed', 3:'ExposedV1', 4:'ExposedV2', 5:'Carrier',\n",
    "              6:'CarrierV1',7:'CarrierV2', 8:'CarrierT', 9:'CarrierTV1', 10:'CarrierTV2', 11:'Infected',\n",
    "              12:'InfectedV1',13:'InfectedV2', 14:'InfectedT', 15:'InfectedTV1', 16:'InfectedTV2',\n",
    "              17:'Hospitalized', 18:'HospitalizedV1', 19:'HospitalizedV2', 20:'ICU',\n",
    "              21:'ICUV1', 22:'ICUV2', 23:'Immune', 24:'Dead', 25: 'Infected Total'}\n",
    "new_secir_dict = {0:'Susceptible', 1:'SusceptibleV1', 2:'Exposed', 3:'Carrier', 4:'Infected',\n",
    "              5:'Hospitalized', 6:'ICU', 7:'Immune', 8:'Dead', 9: 'Infected Total'}\n",
    "concat_comps = {0:[0], 1:[1], 2:[2,3,4], 3:[5,6,7,8,9,10], 4:[11, 12, 13, 14, 15, 16],\n",
    "            5:[17, 18, 19], 6:[20, 21, 22], 7:[23], 8:[24], 9:[25]}\n",
    "\n",
    "#define age groups\n",
    "age_groups = ['0-4 Years', '5-14 Years', '15-34 Years', '35-59 Years', '60-79 Years', '80+ Years']"
   ]
  },
  {
   "cell_type": "markdown",
   "metadata": {},
   "source": [
    "### Plot parameters"
   ]
  },
  {
   "cell_type": "code",
   "execution_count": null,
   "metadata": {},
   "outputs": [],
   "source": [
    "# define colors for age groups\n",
    "plt_colors = plt.rcParams['axes.prop_cycle'].by_key()['color']\n",
    "colors = {}\n",
    "colors['Total'] = plt_colors[0]\n",
    "for i in range(len(age_groups)):\n",
    "    colors['Group' + str(i+1)] = plt_colors[i+1]\n",
    "    \n"
   ]
  },
  {
   "cell_type": "code",
   "execution_count": null,
   "metadata": {},
   "outputs": [],
   "source": [
    "# define population data for incidence values\n",
    "base = 100000\n",
    "age_group_sizes = np.array([3961376,7429883,19117865,28919134,18057318,5681135])\n",
    "\n",
    "relative_dict = {}\n",
    "for i in range(len(age_group_sizes)):\n",
    "    relative_dict[age_groups[i]] = age_group_sizes[i]/base\n",
    "    \n",
    "relative_dict['Total'] = np.sum(age_group_sizes)/base\n",
    "\n",
    "    "
   ]
  },
  {
   "cell_type": "code",
   "execution_count": null,
   "metadata": {},
   "outputs": [],
   "source": [
    "plotRKI = False           # Plots RKI Data if true\n",
    "plotRelative = False     # Plots incidence values if true\n",
    "plotPercentiles = True  # Plots 25 and 75 percentiles if true\n",
    "plotConfidence = True   # Plots 05 and 95 percentiles if true"
   ]
  },
  {
   "cell_type": "code",
   "execution_count": null,
   "metadata": {},
   "outputs": [],
   "source": [
    "savePlot = False          # saves plot file if true\n",
    "if savePlot:\n",
    "    try:\n",
    "        os.mkdir('Plots')\n",
    "    except:\n",
    "        print('Directory \"Plots\" already exists')"
   ]
  },
  {
   "cell_type": "code",
   "execution_count": null,
   "metadata": {},
   "outputs": [],
   "source": [
    "\n",
    "\n",
    "opacity = 0.15           \n",
    "lineWidth = 3.5\n",
    "fontsize = 18\n",
    "figsize = (16, 10)\n",
    "\n",
    "#define x-ticks for plots\n",
    "datelist = np.array(pd.date_range(start_date.date(), periods=daysPlot, freq='D').strftime('%m-%d').tolist())\n",
    "tick_range = (np.arange(int(daysPlot / 10) + 1) * 10)\n",
    "tick_range[-1] -= 1"
   ]
  },
  {
   "cell_type": "code",
   "execution_count": null,
   "metadata": {},
   "outputs": [],
   "source": []
  },
  {
   "cell_type": "code",
   "execution_count": null,
   "metadata": {},
   "outputs": [],
   "source": [
    "def plot_results(files, comp_idx, title, key='Total'):\n",
    "    fig, ax = plt.subplots(figsize=figsize)\n",
    "    \n",
    "    if plotRelative:\n",
    "        factor = relative_dict[key]\n",
    "    else:\n",
    "        factor = 1\n",
    "        \n",
    "    X = np.arange(daysPlot)\n",
    "    \n",
    "    ax.plot(X, files['p50']['0'][key][:, comp_idx]/factor, label='p50',\n",
    "            color=colors[key], linewidth=lineWidth)\n",
    "    if plotPercentiles:    \n",
    "        ax.plot(X, files['p25']['0'][key][:, comp_idx]/factor,'--', label='p25',\n",
    "                color=colors[key], linewidth=lineWidth)\n",
    "        ax.plot(X, files['p75']['0'][key][:, comp_idx]/factor,'--',  label='p75',\n",
    "                color=colors[key], linewidth=lineWidth)\n",
    "        ax.fill_between(X, files['p25']['0'][key][:, comp_idx]/factor,\n",
    "                        files['p75']['0'][key][:, comp_idx]/factor,\n",
    "                        color=colors[key], alpha=opacity) \n",
    "    if plotConfidence:    \n",
    "        ax.plot(X, files['p05']['0'][key][:, comp_idx]/factor,'--', label='p05',\n",
    "                color=colors[key], linewidth=lineWidth)\n",
    "        ax.plot(X, files['p95']['0'][key][:, comp_idx]/factor,'--',  label='p95',\n",
    "                color=colors[key], linewidth=lineWidth)\n",
    "        ax.fill_between(X, files['p05']['0'][key][:, comp_idx]/factor, \n",
    "                        files['p95']['0'][key][:, comp_idx]/factor,\n",
    "                        color=colors[key], alpha=opacity) \n",
    "        \n",
    "    if plotRKI:\n",
    "        ax.plot(X, files['RKI']['0'][key][:, comp_idx]/factor,'--', label='RKI',\n",
    "            color='gray', linewidth=lineWidth)\n",
    "        \n",
    "\n",
    "    ax.set_title(title, fontsize=18)\n",
    "    ax.set_xticks(tick_range)\n",
    "    ax.set_xticklabels(datelist[tick_range], rotation=45, fontsize=fontsize)\n",
    "    if plotRelative:\n",
    "        ax.set_ylabel('individuals relative per 100.000', fontsize=fontsize)\n",
    "    else:\n",
    "        ax.set_ylabel('number of individuals', fontsize=fontsize)\n",
    "    ax.legend(fontsize=fontsize)\n",
    "    plt.yticks(fontsize=fontsize)\n",
    "    ax.grid(linestyle='dotted')\n",
    "    \n",
    "    formatter = ticker.ScalarFormatter(useMathText=True)\n",
    "    formatter.set_scientific(True) \n",
    "    formatter.set_powerlimits((-1,1)) \n",
    "    ax.yaxis.set_major_formatter(formatter) \n",
    "    ax.yaxis.offsetText.set_fontsize(fontsize)\n",
    "    \n",
    "    if savePlot:\n",
    "        fig.savefig('Plots/' + title + '.png')\n"
   ]
  },
  {
   "cell_type": "code",
   "execution_count": null,
   "metadata": {},
   "outputs": [],
   "source": [
    "def open_files():\n",
    "    # load files\n",
    "    files = []\n",
    "\n",
    "    for i in range(len(strings)):\n",
    "        files.append({})\n",
    "\n",
    "        path = '../data/results_new' + strings[i]\n",
    "\n",
    "        files[i]['p50'] = h5py.File(path + '/p50/Results_sum.h5', 'r+')\n",
    "\n",
    "        files[i]['p25'] = h5py.File(path + '/p25/Results_sum.h5', 'r+')\n",
    "        files[i]['p75'] = h5py.File(path + '/p75/Results_sum.h5', 'r+')\n",
    "\n",
    "        files[i]['p05'] = h5py.File(path + '/p05/Results_sum.h5', 'r+')\n",
    "        files[i]['p95'] = h5py.File(path + '/p95/Results_sum.h5', 'r+')\n",
    "\n",
    "        if plotRKI:\n",
    "            files[i]['RKI'] = h5py.File(path + '/Results_rki_sum.h5', 'r+')\n",
    "    \n",
    "    return files\n",
    "\n",
    "def close_files(files):\n",
    "    for group in files:\n",
    "        for file in group:\n",
    "            group[file].close()\n",
    "\n"
   ]
  },
  {
   "cell_type": "code",
   "execution_count": null,
   "metadata": {},
   "outputs": [],
   "source": [
    "def concat_comparts(files, comparts):\n",
    "    new_files = []\n",
    "    for scenario in range(len(strings)):\n",
    "        new_files.append({})\n",
    "        for p in ['p50', 'p25','p75','p05','p95']:\n",
    "            new_files[scenario][p] = {'0':{}}\n",
    "            for key in ['Group' + str(group+1) for group in range(6)] + ['Total']:\n",
    "                new_files[scenario][p]['0'][key] = \\\n",
    "                np.zeros((len(files[scenario][p]['0']['Time']), len(comparts)))\n",
    "                for new_comp in range(len(comparts)):\n",
    "                    for old_comp in comparts[new_comp]:\n",
    "                        new_files[scenario][p]['0'][key][:, new_comp] += \\\n",
    "                        files[scenario][p]['0'][key][:, old_comp]\n",
    "                        \n",
    "    return new_files"
   ]
  },
  {
   "cell_type": "code",
   "execution_count": null,
   "metadata": {},
   "outputs": [],
   "source": []
  },
  {
   "cell_type": "code",
   "execution_count": null,
   "metadata": {},
   "outputs": [],
   "source": [
    "files = open_files()\n",
    "new_files = concat_comparts(files, concat_comps)\n",
    "for scenario in range(len(strings)):\n",
    "    for compart in range(len(new_secir_dict)):\n",
    "        plot_results(new_files[scenario], compart, new_secir_dict[compart], key='Total')\n",
    "        \n",
    "close_files(files)\n",
    "        \n"
   ]
  },
  {
   "cell_type": "code",
   "execution_count": null,
   "metadata": {},
   "outputs": [],
   "source": [
    "files = open_files()\n",
    "for scenario in range(len(strings)):\n",
    "    for compart in range(len(secir_dict)):\n",
    "        plot_results(files[scenario], compart, secir_dict[compart], key='Total')\n",
    "        \n",
    "close_files(files)\n",
    "        "
   ]
  },
  {
   "cell_type": "code",
   "execution_count": null,
   "metadata": {},
   "outputs": [],
   "source": []
  },
  {
   "cell_type": "code",
   "execution_count": null,
   "metadata": {},
   "outputs": [],
   "source": []
  }
 ],
 "metadata": {
  "kernelspec": {
   "display_name": "Python 3",
   "language": "python",
   "name": "python3"
  },
  "language_info": {
   "codemirror_mode": {
    "name": "ipython",
    "version": 3
   },
   "file_extension": ".py",
   "mimetype": "text/x-python",
   "name": "python",
   "nbconvert_exporter": "python",
   "pygments_lexer": "ipython3",
   "version": "3.6.9"
  }
 },
 "nbformat": 4,
 "nbformat_minor": 2
}
