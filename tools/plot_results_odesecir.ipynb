{
 "cells": [
  {
   "cell_type": "code",
   "execution_count": null,
   "metadata": {},
   "outputs": [],
   "source": [
    "import pandas as pd\n",
    "import numpy as np\n",
    "import os\n",
    "import matplotlib.pyplot as plt\n",
    "from matplotlib import ticker\n",
    "from plot_results import plot_results_secir, close_files, open_files\n",
    "plt.rcParams['figure.facecolor'] = 'w'\n",
    "plt.rcParams['axes.facecolor'] = 'w'"
   ]
  },
  {
   "cell_type": "markdown",
   "metadata": {},
   "source": [
    "### Model parameters"
   ]
  },
  {
   "cell_type": "code",
   "execution_count": null,
   "metadata": {},
   "outputs": [],
   "source": [
    "# Define compartments\n",
    "secir_dict = {0:'Susceptible', 1:'Exposed',2:'Carrier', 3:'Infected', 4:'Hospitalized',\n",
    "              5:'ICU', 6:'Recovered', 7:'Death'}\n",
    "\n",
    "\n",
    "# Define age groups\n",
    "age_groups = ['0-4 Years', '5-14 Years', '15-34 Years', '35-59 Years', '60-79 Years', '80+ Years']\n",
    "\n",
    "# Define population data for incidence values and relative plots\n",
    "base = 100000\n",
    "age_group_sizes = np.array([3961376,7429883,19117865,28919134,18057318,5681135])\n",
    "\n",
    "relative_dict = {}\n",
    "for i in range(len(age_group_sizes)):\n",
    "    relative_dict['Group' + str(i+1)] = age_group_sizes[i]/base\n",
    "    \n",
    "relative_dict['Total'] = np.sum(age_group_sizes)/base   "
   ]
  },
  {
   "cell_type": "markdown",
   "metadata": {},
   "source": [
    "### Simulation parameters "
   ]
  },
  {
   "cell_type": "code",
   "execution_count": null,
   "metadata": {},
   "outputs": [],
   "source": [
    "# use absolute path to results and extrapolated rki results\n",
    "path_sim = 'Absolute/Path/data/'\n",
    "path_rki = 'data/extrapolated_rki_results'\n",
    "scenario_list = ['']\n",
    "\n",
    "# Define start day and simulation period\n",
    "year, month, day = '2020', '6', '1'\n",
    "start_date = pd.Timestamp(year + '.' + month.zfill(2) + '.' + day.zfill(2))\n",
    "tmax = '90'\n",
    "daysPlot = 90\n",
    "\n",
    "# Define scenario path and different folders that will be read and plotted\n",
    "date_str = '_' + str(year) + '_' + str(month) + '_' + str(day) + '_' + str(tmax)"
   ]
  },
  {
   "cell_type": "markdown",
   "metadata": {},
   "source": [
    "### Plot parameters"
   ]
  },
  {
   "cell_type": "code",
   "execution_count": null,
   "metadata": {},
   "outputs": [],
   "source": [
    "plotRKI = False          # Plots RKI Data if true\n",
    "plotRelative = False     # Plots incidence values if true\n",
    "plotPercentiles = True  # Plots 25 and 75 percentiles if true\n",
    "plotConfidence = True   # Plots 05 and 95 percentiles if true\n",
    "savePlot = True          # saves plot file if true\n",
    "\n",
    "if savePlot:\n",
    "    try:\n",
    "        os.mkdir('Plots')\n",
    "    except:\n",
    "        print('Directory \"Plots\" already exists')\n",
    "        \n",
    "lineWidth = 3.5\n",
    "fontsize = 18\n",
    "figsize = (16, 10)\n",
    "\n",
    "#define x-ticks for plots\n",
    "datelist = np.array(pd.date_range(start_date.date(), periods=daysPlot, freq='D').strftime('%m-%d').tolist())\n",
    "tick_range = (np.arange(int(daysPlot / 10) + 1) * 10)\n",
    "tick_range[-1] -= 1\n",
    "\n",
    "plt_colors = plt.rcParams['axes.prop_cycle'].by_key()['color']\n",
    "\n",
    "colors = {}\n",
    "colors['Total'] = plt_colors[0]\n",
    "for i in range(len(age_groups)):\n",
    "    colors['Group' + str(i+1)] = plt_colors[i+1]"
   ]
  },
  {
   "cell_type": "markdown",
   "metadata": {},
   "source": [
    "### Plot total population "
   ]
  },
  {
   "cell_type": "code",
   "execution_count": null,
   "metadata": {},
   "outputs": [],
   "source": [
    "files = open_files(path_sim, path_rki, scenario_list, date_str, date_str, read_casereports_extrapolation=plotRKI)\n",
    "for scenario in scenario_list:\n",
    "    for compart in range(len(secir_dict)):\n",
    "            plot_results_secir(files[scenario], compart, secir_dict[compart], figsize, colors, tick_range, datelist,\n",
    "                         key='Total')\n",
    "        \n",
    "close_files(files)"
   ]
  },
  {
   "attachments": {},
   "cell_type": "markdown",
   "metadata": {},
   "source": [
    "### Plot group population "
   ]
  },
  {
   "cell_type": "code",
   "execution_count": null,
   "metadata": {
    "scrolled": false
   },
   "outputs": [],
   "source": [
    "files = open_files(path_sim, path_rki, scenario_list, date_str, date_str, read_casereports_extrapolation=plotRKI)\n",
    "for scenario in scenario_list:\n",
    "    for compart in range(len(secir_dict)):\n",
    "        for group in range(len(age_groups)):\n",
    "            plot_results_secir(files[scenario], compart, secir_dict[compart] + ' ' + age_groups[group], figsize, colors, tick_range, datelist,\n",
    "                         key='Group' + str(group+1))\n",
    "            \n",
    "close_files(files)"
   ]
  }
 ],
 "metadata": {
  "kernelspec": {
   "display_name": "corona",
   "language": "python",
   "name": "python3"
  },
  "language_info": {
   "codemirror_mode": {
    "name": "ipython",
    "version": 3
   },
   "file_extension": ".py",
   "mimetype": "text/x-python",
   "name": "python",
   "nbconvert_exporter": "python",
   "pygments_lexer": "ipython3",
   "version": "3.9.7"
  },
  "vscode": {
   "interpreter": {
    "hash": "7edd79f961b8b7c1dd421ad59b95f5d278d71d5da49685d4ca4aaea394e91878"
   }
  }
 },
 "nbformat": 4,
 "nbformat_minor": 4
}
