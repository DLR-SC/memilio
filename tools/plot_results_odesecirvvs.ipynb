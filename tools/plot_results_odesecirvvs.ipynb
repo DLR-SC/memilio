{
 "cells": [
  {
   "cell_type": "code",
   "execution_count": 7,
   "metadata": {},
   "outputs": [],
   "source": [
    "import pandas as pd\n",
    "import numpy as np\n",
    "import plot_results as pr\n",
    "import matplotlib.pyplot as plt\n",
    "from matplotlib import ticker\n",
    "import h5py\n",
    "import os\n",
    "plt.rcParams['figure.facecolor'] = 'w'\n",
    "plt.rcParams['axes.facecolor'] = 'w'"
   ]
  },
  {
   "cell_type": "markdown",
   "metadata": {},
   "source": [
    "### Model parameters"
   ]
  },
  {
   "cell_type": "code",
   "execution_count": 8,
   "metadata": {},
   "outputs": [],
   "source": [
    "## Define compartments\n",
    "# Use this dict for new model outputs\n",
    "secir_dict = {0: 'SusceptibleNaive', 1: 'SusceptiblePartialImmunity', 2: 'ExposedNaive', 3: 'ExposedPartialImmunity', \n",
    "                4: 'ExposedImprovedImmunity', 5: 'InfectedNoSymptomsNaive', 6: 'InfectedNoSymptomsPartialImmunity', \n",
    "                7: 'InfectedNoSymptomsImprovedImmunity ', 8: 'InfectedNoSymptomsNaiveConfirmed', 9: 'InfectedNoSymptomsPartialImmunityConfirmed', \n",
    "                10: 'InfectedNoSymptomsImprovedImmunityConfirmed', 11: 'InfectedSymptomsNaive', 12: 'InfectedSymptomsPartialImmunity', \n",
    "                13: 'InfectedSymptomsImprovedImmunity', 14: 'InfectedSymptomsNaiveConfirmed', 15: 'InfectedSymptomsPartialImmunityConfirmed',\n",
    "                16: 'InfectedSymptomsImprovedImmunityConfirmed', 17: 'InfectedSevereNaive', 18: 'InfectedSeverePartialImmunity',\n",
    "                19: 'InfectedSevereImprovedImmunity', 20: 'InfectedCriticalNaive', 21: 'InfectedCriticalPartialImmunity', \n",
    "                22: 'InfectedCriticalImprovedImmunity', 23: 'SusceptibleImprovedImmunity', 24: 'DeadNaive', 25: 'DeadPartialImmunity',\n",
    "                26: 'DeadImprovedImmunity', 25: 'TotalInfections'}\n",
    "# Use this dict for model outputs of working branch before mid of 2022                                \n",
    "#secir_dict = {0:'Susceptible', 1:'Partially Vaccinated', 2:'Exposed', 3:'ExposedV1', 4:'ExposedV2', 5:'Carrier',\n",
    "#              6:'CarrierV1',7:'CarrierV2', 8:'CarrierT', 9:'CarrierTV1', 10:'CarrierTV2', 11:'Infected',\n",
    "#              12:'InfectedV1',13:'InfectedV2', 14:'InfectedT', 15:'InfectedTV1', 16:'InfectedTV2',\n",
    "#              17:'Hospitalized', 18:'HospitalizedV1', 19:'HospitalizedV2', 20:'ICU',\n",
    "#              21:'ICUV1', 22:'ICUV2', 23:'Immune', 24:'Dead', 25: 'Infected Total'}\n",
    "\n",
    "# Define aggregated infection states to plot and create 'concat_comps' dictionary for aggregation\n",
    "secir_dict_aggregated = {0:'Susceptible', 1:'Partial Immunity', 2:'Exposed', 3:'InfectedNoSymptoms', 4:'InfectedSymptoms',\n",
    "              5:'InfectedSevere', 6:'InfectedCritical', 7:'Improved Immunity', 8:'Dead', 9: 'Infected Total'}\n",
    "#concat_comps = {0:[0], 1:[1], 7:[23], 8:[24], 9:[25]} # old, only one dead compartment (need to change secir dict above)\n",
    "concat_comps = {0:[0], 1:[1], 7:[23], 8:[24, 25, 26], 9:[27]} # new, three dead compartments\n",
    "for i in range(2,7):\n",
    "    concat_comps[i] = []\n",
    "    for k, infstate in secir_dict.items():\n",
    "        if secir_dict_aggregated[i] in infstate:\n",
    "            if (infstate != 'TotalInfections') and (infstate != 'Infected Total'):\n",
    "                concat_comps[i].append(k)\n",
    "\n",
    "\n",
    "# Define age groups\n",
    "age_groups = ['0-4 Years', '5-14 Years', '15-34 Years', '35-59 Years', '60-79 Years', '80+ Years']\n",
    "\n",
    "# Define population data for incidence values and relative plots\n",
    "base = 100000\n",
    "age_group_sizes = np.array([3961376,7429883,19117865,28919134,18057318,5681135])\n",
    "\n",
    "relative_dict = {}\n",
    "for i in range(len(age_group_sizes)):\n",
    "    relative_dict['Group' + str(i+1)] = age_group_sizes[i]/base\n",
    "    \n",
    "relative_dict['Total'] = np.sum(age_group_sizes)/base   "
   ]
  },
  {
   "cell_type": "markdown",
   "metadata": {},
   "source": [
    "### Simulation parameters "
   ]
  },
  {
   "cell_type": "code",
   "execution_count": 11,
   "metadata": {},
   "outputs": [],
   "source": [
    "# Define start day and simulation period\n",
    "year, month, day = '2021', '6', '6'\n",
    "start_date = pd.Timestamp(year + '.' + month.zfill(2) + '.' + day.zfill(2))\n",
    "tmax = '90'\n",
    "daysPlot = 45\n",
    "\n",
    "# Define different scenario folders that will be read and plotted\n",
    "date_str = '_' + str(year) + '_' + str(month) + '_' + str(day) + '_' + str(tmax)\n",
    "path_sim = 'data/'\n",
    "path_rki = 'data/'\n",
    "scenario_list = ['', '_long', '_long_high', '_high', '_late', '_mask_test', \n",
    "                 '_high_late', '_high_mask_test', '_late_mask_test','_high_late_mask_test']\n",
    "\n",
    "# Provide a list of labels for corresponding plots\n",
    "scenario_label = {\n",
    "    '': 'No commuter testing, local NPIs decreed until July 1st, no masks after opening' ,\n",
    "    '_late': 'No commuter testing, local NPIs decreed until August 1st, no masks after opening' ,\n",
    "    '_mask_test': 'Commuter testing, local NPIs decreed until July 1st, keeping masks and distancing', \n",
    "    '_late_mask_test': 'Commuter testing, local NPIs decreed until August 1st, keeping masks and distancing',\n",
    "    '_long': 'No commuter testing, local NPIs decreed until July 1st, no masks after opening' ,\n",
    "    '_long_late': 'No commuter testing, local NPIs decreed until August 1st, no masks after opening' ,\n",
    "    '_long_mask_test': 'Commuter testing, local NPIs decreed until July 1st, keeping masks and distancing', \n",
    "    '_long_late_mask_test': 'Commuter testing, local NPIs decreed until August 1st, keeping masks and distancing',\n",
    "    '_future_long': 'No commuter testing, no local NPIs' ,\n",
    "    '_future_long_mask_test': 'No commuter testing, no local NPIs except for masks and distancing',  \n",
    "    '_future': 'No commuter testing, no local NPIs' ,\n",
    "    '_future_mask_test': 'No commuter testing, no local NPIs except for masks and distancing', \n",
    "    '_high': 'No commuter testing, local NPIs decreed until July 1st, no masks after opening' ,\n",
    "    '_high_late': 'No commuter testing, local NPIs decreed until August 1st, no masks after opening' ,\n",
    "    '_high_mask_test': 'Commuter testing, local NPIs decreed until July 1st, keeping masks and distancing', \n",
    "    '_high_late_mask_test': 'Commuter testing, local NPIs decreed until August 1st, keeping masks and distancing',\n",
    "    '_long_high': 'No commuter testing, local NPIs decreed until July 1st, no masks after opening' ,\n",
    "    '_long_high_late': 'No commuter testing, local NPIs decreed until August 1st, no masks after opening' ,\n",
    "    '_long_high_mask_test': 'Commuter testing, local NPIs decreed until July 1st, keeping masks and distancing', \n",
    "    '_long_high_late_mask_test': 'Commuter testing, local NPIs decreed until August 1st, keeping masks and distancing',\n",
    "    '_future_long_high': 'No commuter testing, no local NPIs' ,\n",
    "    '_future_long_high_mask_test': 'No commuter testing, no local NPIs except for masks and distancing',  \n",
    "    '_future_high': 'No commuter testing, no local NPIs' ,\n",
    "    '_future_high_mask_test': 'No commuter testing, no local NPIs except for masks and distancing',\n",
    "    's1f_future_high_mask_test': 'S1F: contact reduc. 27 % [21-32 %]',\n",
    "    's2f_future_high_mask_test': 'S2F: contact reduc. 37% [32-42 %]',\n",
    "    's3f_future_high_mask_test': 'S3F: contact reduc. 42% [37-46]'\n",
    "}"
   ]
  },
  {
   "cell_type": "markdown",
   "metadata": {},
   "source": [
    "### Plot parameters"
   ]
  },
  {
   "cell_type": "code",
   "execution_count": 10,
   "metadata": {},
   "outputs": [
    {
     "name": "stdout",
     "output_type": "stream",
     "text": [
      "Directory \"Plots\" already exists\n"
     ]
    }
   ],
   "source": [
    "plotRKI = True           # Plots RKI Data if true\n",
    "plotRelative = False     # Plots incidence values if true\n",
    "plotPercentiles = True  # Plots 25 and 75 percentiles if true\n",
    "plotConfidence = False   # Plots 05 and 95 percentiles if true\n",
    "savePlot = True          # saves plot file if true\n",
    "\n",
    "if savePlot:\n",
    "    try:\n",
    "        os.mkdir('Plots')\n",
    "    except:\n",
    "        print('Directory \"Plots\" already exists')\n",
    "        \n",
    "fontsize = 28\n",
    "figsize = (13, 10)\n",
    "\n",
    "#define x-ticks for plots\n",
    "datelist = np.array(pd.date_range(start_date.date(), periods=daysPlot, freq='D').strftime('%m-%d').tolist())\n",
    "\n",
    "plt_colors = plt.rcParams['axes.prop_cycle'].by_key()['color']\n",
    "\n",
    "colors = {}\n",
    "colors['Total'] = plt_colors[0]\n",
    "for i in range(len(age_groups)):\n",
    "    colors['Group' + str(i+1)] = plt_colors[i+1]"
   ]
  },
  {
   "cell_type": "markdown",
   "metadata": {},
   "source": [
    "# Plots For Paper"
   ]
  },
  {
   "cell_type": "code",
   "execution_count": null,
   "metadata": {
    "scrolled": true
   },
   "outputs": [],
   "source": [
    "# This Cell plots all Scenarios with combined compartments\n",
    "\n",
    "year, month, day = '2021', '6', '6'\n",
    "start_date = pd.Timestamp(year + '.' + month.zfill(2) + '.' + day.zfill(2))\n",
    "tmax = '90'\n",
    "daysPlot = 45\n",
    "\n",
    "datelist = np.array(pd.date_range(start_date.date(), periods=daysPlot, freq='D').strftime('%m-%d').tolist())\n",
    "plotRKI=True\n",
    "plotLegend=True\n",
    "ylim = {}\n",
    "\n",
    "secir_dict_inv = dict([(val, key) for key, val in secir_dict.items()])\n",
    "# List of integers corresponding to the compartments to plot\n",
    "# e.g. comparts = [4, 6, 8] would only plot Infected, ICU and Dead \n",
    "for compart, compart_label in secir_dict_aggregated.items():\n",
    "    #if compart_label == 'Infected':\n",
    "    for high in ['_high', '']:\n",
    "        scenario_list = [high, high + '_late', high + '_mask_test', high + '_late_mask_test','_long' +  high + '_mask_test'] \n",
    "\n",
    "        files = pr.open_files(spec_str_sim='_rev2', spec_str_rki1 = '', scenario_list = scenario_list, read_casereports_extrapolation = True)\n",
    "        new_files = pr.concat_comparts(files, concat_comps, scenario_list)\n",
    "        for scenario in scenario_list:\n",
    "            if True: # compart_label in ['Infected','ICU','Dead']:\n",
    "                if compart_label=='Infected':\n",
    "                    plotLegend=True\n",
    "                else:\n",
    "                    plotLegend=False\n",
    "                if compart_label=='Dead' and plotRKI and 'RKI' in files.keys():\n",
    "                    addBase = files[scenario]['RKI'][regionid]['Total'][:,secir_dict_inv['Dead']][0]\n",
    "                else:\n",
    "                    addBase = 0\n",
    "                ylim = pr.plot_results(new_files[scenario], compart, secir_dict_aggregated[compart], ylim, filename=scenario, key='Total', plotLegend=plotLegend, addVal=addBase)\n",
    "\n",
    "        pr.close_files(files)\n",
    "            \n"
   ]
  },
  {
   "cell_type": "code",
   "execution_count": null,
   "metadata": {
    "scrolled": false
   },
   "outputs": [],
   "source": [
    "# Plots for Future \n",
    "year, month, day = '2021', '10', '15'\n",
    "start_date = pd.Timestamp(year + '.' + month.zfill(2) + '.' + day.zfill(2))\n",
    "tmax = '90'\n",
    "daysPlot = 90\n",
    "\n",
    "datelist = np.array(pd.date_range(start_date.date(), periods=daysPlot, freq='D').strftime('%m-%d').tolist())\n",
    "tick_range = (np.arange(int(daysPlot / 10) + 1) * 10)\n",
    "tick_range[-1] -= 1\n",
    "plotRKI=False\n",
    "plotPercentiles = True\n",
    "ylim = {}\n",
    "comparts = [4]\n",
    "scenario_list = ['s1f_future_high_mask_test', 's2f_future_high_mask_test', 's3f_future_high_mask_test']\n",
    "for compart in comparts:\n",
    "\n",
    "    files = pr.open_files(spec_str_sim='_rev2_', spec_str_rki1 = '', spec_str_rki2 = '_future', scenario_list = scenario_list, read_casereports_extrapolation = True)\n",
    "    new_files = pr.concat_comparts(files, concat_comps, scenario_list)\n",
    "    pr.plot_all_results(new_files, compart, secir_dict_aggregated[compart], filename=high + '_all', key='Total', show_perc=True)\n",
    "    for scenario in scenario_list:\n",
    "        ylim = pr.plot_results(new_files[scenario], compart, secir_dict_aggregated[compart], ylim, filename=scenario, key='Total')\n",
    "\n",
    "    pr.close_files(files)\n",
    "        "
   ]
  },
  {
   "cell_type": "code",
   "execution_count": null,
   "metadata": {},
   "outputs": [],
   "source": [
    "# Barplot for all Scenarios except future\n",
    "scenario_list = ['',  '_late', '_mask_test', '_late_mask_test', '_high',  '_high_late', '_high_mask_test', '_high_late_mask_test']\n",
    "plotRKI=False\n",
    "files = pr.open_files(spec_str_sim='_rev2', spec_str_rki1 = '', scenario_list = scenario_list, read_casereports_extrapolation = True)\n",
    "new_files = pr.concat_comparts(files, concat_comps, scenario_list)\n",
    "\n",
    "\n",
    "columns = ('S1 - 40%', 'S2 - 40%', 'S3 - 40%', 'S4 - 40%', 'S1 - 60%', 'S2 - 60%', 'S3 - 60%', 'S4 - 60%')\n",
    "rows =  ['0-4 Years', '5-14 Years', '15-34 Years', '35-59 Years', '60-79 Years', '80+ Years']\n",
    "\n",
    "pr.plot_bars(True, 'age_incidence', new_files, columns, rows, 200)\n",
    "pr.close_files(files)"
   ]
  },
  {
   "cell_type": "code",
   "execution_count": null,
   "metadata": {},
   "outputs": [],
   "source": [
    "# Barplot for Future Scenarios\n",
    "scenario_list = ['s1f_future_high_mask_test', 's2f_future_high_mask_test', 's3f_future_high_mask_test']\n",
    "files = pr.open_files(spec_str_sim='_rev2_', spec_str_rki1 = '', spec_str_rki2 = '_future', scenario_list = scenario_list, read_casereports_extrapolation = True)\n",
    "new_files = pr.concat_comparts(files, concat_comps, scenario_list)\n",
    "\n",
    "fs = 24\n",
    "\n",
    "columns = ('S1F: contact reduc. 27 % [21-32 %]', 'S2F: contact reduc. 37% [32-42 %]', 'S3F: contact reduc. 42% [37-46]')\n",
    "rows =  ['0-4 Years', '5-14 Years', '15-34 Years', '35-59 Years', '60-79 Years', '80+ Years']\n",
    "\n",
    "pr.plot_bars(False, 'age_incidence', new_files, columns, rows, 200)\n",
    "pr.close_files(files)"
   ]
  },
  {
   "cell_type": "code",
   "execution_count": null,
   "metadata": {
    "scrolled": false
   },
   "outputs": [],
   "source": [
    "# Plot for Partially Vaccinated, Vaccinated and Cumulative number of Infections\n",
    "year, month, day = '2021', '6', '6'\n",
    "start_date = pd.Timestamp(year + '.' + month.zfill(2) + '.' + day.zfill(2))\n",
    "tmax = '90'\n",
    "daysPlot = 91\n",
    "regionid = '0'\n",
    "\n",
    "datelist = np.array(pd.date_range(start_date.date(), periods=daysPlot, freq='D').strftime('%m-%d').tolist())\n",
    "tick_range = (np.arange(int(daysPlot / 10) + 1) * 10)\n",
    "tick_range[-1] -= 1\n",
    "plotRKI=False\n",
    "plotPercentiles = False\n",
    "savePlot = True\n",
    "ylim = {}\n",
    "comparts = [1,7, 9]\n",
    "scenario_list = ['_high_mask_test']\n",
    "\n",
    "files = files = pr.open_files(spec_str_sim='_rev2', spec_str_rki1 = '', scenario_list = scenario_list)\n",
    "new_files = pr.concat_comparts(files, concat_comps, scenario_list)\n",
    "new_files[scenario_list[0]]['p50'][regionid]['Total'][:,7] -= new_files[scenario_list[0]]['p50'][regionid]['Total'][:,9]\n",
    "temp_secir_dict = {\n",
    "    1: 'Partially Vaccinated',\n",
    "    7: 'Fully Vaccinated',\n",
    "    9: 'Cumulative number of Infections'\n",
    "}\n",
    "for compart in comparts:\n",
    "    \n",
    "    for scenario in scenario_list:\n",
    "        pr.plot_results_secirvvs(new_files[scenario], compart, temp_secir_dict[compart], None, filename='vacc' + scenario, key='Total', plotLegend=False)\n",
    "        \n",
    "    pr.close_files(files)"
   ]
  },
  {
   "cell_type": "markdown",
   "metadata": {},
   "source": [
    "# Other Plots (not for paper)"
   ]
  },
  {
   "cell_type": "code",
   "execution_count": null,
   "metadata": {
    "scrolled": true
   },
   "outputs": [],
   "source": [
    "# This Cell Plots all Scenarios, where the Y limits for \"high\" and \n",
    "# not \"high\" Scenarios are equal (Without \"concat_comparts\")\n",
    "year, month, day = '2021', '6', '6'\n",
    "start_date = pd.Timestamp(year + '.' + month.zfill(2) + '.' + day.zfill(2))\n",
    "tmax = '90'\n",
    "daysPlot = 91\n",
    "\n",
    "datelist = np.array(pd.date_range(start_date.date(), periods=daysPlot, freq='D').strftime('%m-%d').tolist())\n",
    "tick_range = (np.arange(int(daysPlot / 10) + 1) * 10)\n",
    "tick_range[-1] -= 1\n",
    "plotRKI=False\n",
    "ylim = {}\n",
    "comparts = secir_dict\n",
    "for compart in comparts:\n",
    "    for high in ['_high', '']:\n",
    "        scenario_list = [high, high + '_late', high + '_mask_test', high + '_late_mask_test','_long' +  high + '_mask_test'] \n",
    "        \n",
    "        files = pr.open_files('_init_test')\n",
    "        new_files = pr.concat_comparts(files, concat_comps)\n",
    "        #plot_all_results(new_files, compart, new_secir_dict[compart], filename=high + '_all', key='Total')\n",
    "        for scenario in scenario_list:\n",
    "            ylim = pr.plot_results(files[scenario], compart, secir_dict[compart], ylim, filename=scenario, key='Total')\n",
    "            \n",
    "        pr.close_files(files)\n",
    "            \n"
   ]
  },
  {
   "cell_type": "code",
   "execution_count": null,
   "metadata": {
    "scrolled": false
   },
   "outputs": [],
   "source": [
    "# This Cell only plots one Scenario (Without \"concat_comparts\")\n",
    "year, month, day = '2021', '6', '6'\n",
    "start_date = pd.Timestamp(year + '.' + month.zfill(2) + '.' + day.zfill(2))\n",
    "tmax = '90'\n",
    "daysPlot = 91\n",
    "\n",
    "datelist = np.array(pd.date_range(start_date.date(), periods=daysPlot, freq='D').strftime('%m-%d').tolist())\n",
    "tick_range = (np.arange(int(daysPlot / 10) + 1) * 10)\n",
    "tick_range[-1] -= 1\n",
    "\n",
    "comparts = secir_dict  \n",
    "for compart in comparts:\n",
    "    # List of strings corresponding to Scenarios\n",
    "    scenario_list = ['_high_mask_test']\n",
    "\n",
    "    files = pr.open_files()\n",
    "    new_files = pr.concat_comparts(files, concat_comps)\n",
    "    #plot_all_results(new_files, compart, new_secir_dict[compart], filename=high + '_all', key='Total')\n",
    "    ylim = None\n",
    "    for scenario in scenario_list:\n",
    "        ylim = pr.plot_results_secirvvs(files[scenario], compart, secir_dict[compart], ylim, filename=scenario, key='Total')\n",
    "\n",
    "    pr.close_files(files)\n",
    "            "
   ]
  },
  {
   "cell_type": "code",
   "execution_count": null,
   "metadata": {},
   "outputs": [],
   "source": [
    "# This Cell plots all Scenarios with combined compartments\n",
    "\n",
    "year, month, day = '2021', '6', '6'\n",
    "start_date = pd.Timestamp(year + '.' + month.zfill(2) + '.' + day.zfill(2))\n",
    "tmax = '90'\n",
    "daysPlot = 91\n",
    "\n",
    "datelist = np.array(pd.date_range(start_date.date(), periods=daysPlot, freq='D').strftime('%m-%d').tolist())\n",
    "tick_range = (np.arange(int(daysPlot / 10) + 1) * 10)\n",
    "tick_range[-1] -= 1\n",
    "plotRKI=False\n",
    "ylim = {}\n",
    "# List of integers corresponding to the compartments to plot\n",
    "# e.g. comparts = [4, 6, 8] would only plot Infected, ICU and Dead \n",
    "comparts = new_secir_dict\n",
    "for compart in comparts:\n",
    "    #for high in ['_high', '']:\n",
    "    #scenario_list = [high, high + '_late', high + '_mask_test', high + '_late_mask_test','_long' +  high + '_mask_test'] \n",
    "    scenario_list = ['_high_mask_test']\n",
    "    files = pr.open_files()\n",
    "    new_files = pr.concat_comparts(files, concat_comps)\n",
    "    #plot_all_results(new_files, compart, new_secir_dict[compart], filename=high + '_all', key='Total')\n",
    "    for scenario in scenario_list:\n",
    "        ylim = pr.plot_results_secirvvs(new_files[scenario], compart, new_secir_dict[compart], ylim, filename=scenario, key='Total')\n",
    "\n",
    "    pr.close_files(files)"
   ]
  }
 ],
 "metadata": {
  "kernelspec": {
   "display_name": "corona",
   "language": "python",
   "name": "python3"
  },
  "language_info": {
   "codemirror_mode": {
    "name": "ipython",
    "version": 3
   },
   "file_extension": ".py",
   "mimetype": "text/x-python",
   "name": "python",
   "nbconvert_exporter": "python",
   "pygments_lexer": "ipython3",
   "version": "3.9.7"
  },
  "vscode": {
   "interpreter": {
    "hash": "7edd79f961b8b7c1dd421ad59b95f5d278d71d5da49685d4ca4aaea394e91878"
   }
  }
 },
 "nbformat": 4,
 "nbformat_minor": 2
}
